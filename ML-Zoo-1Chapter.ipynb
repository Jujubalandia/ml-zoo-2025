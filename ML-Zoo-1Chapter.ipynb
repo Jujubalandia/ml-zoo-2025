{
 "cells": [
  {
   "cell_type": "code",
   "execution_count": 2,
   "id": "8fac3337-9f8a-450b-8f6c-11ea86ffbeec",
   "metadata": {},
   "outputs": [],
   "source": [
    "import pandas as pd\n",
    "import numpy as np\n",
    "import seaborn as sns\n",
    "from matplotlib import pyplot as plt\n",
    "%matplotlib inline"
   ]
  },
  {
   "cell_type": "code",
   "execution_count": 3,
   "id": "c62a0a94-7dd8-4074-86ae-69595587ad29",
   "metadata": {},
   "outputs": [
    {
     "data": {
      "text/plain": [
       "10000"
      ]
     },
     "execution_count": 3,
     "metadata": {},
     "output_type": "execute_result"
    }
   ],
   "source": [
    "\n",
    "df = pd.read_csv('data.csv')\n",
    "len(df)"
   ]
  },
  {
   "cell_type": "code",
   "execution_count": 154,
   "id": "3fb664c1-b467-468f-87d3-19f41ec95a38",
   "metadata": {},
   "outputs": [
    {
     "data": {
      "text/plain": [
       "9704"
      ]
     },
     "execution_count": 154,
     "metadata": {},
     "output_type": "execute_result"
    }
   ],
   "source": [
    "\n",
    "df = pd.read_csv('car_fuel_efficiency.csv.1')\n",
    "len(df)"
   ]
  },
  {
   "cell_type": "code",
   "execution_count": 164,
   "id": "85f7ae4f-468c-4eaa-8dff-491072aaf452",
   "metadata": {},
   "outputs": [
    {
     "data": {
      "text/html": [
       "<div>\n",
       "<style scoped>\n",
       "    .dataframe tbody tr th:only-of-type {\n",
       "        vertical-align: middle;\n",
       "    }\n",
       "\n",
       "    .dataframe tbody tr th {\n",
       "        vertical-align: top;\n",
       "    }\n",
       "\n",
       "    .dataframe thead th {\n",
       "        text-align: right;\n",
       "    }\n",
       "</style>\n",
       "<table border=\"1\" class=\"dataframe\">\n",
       "  <thead>\n",
       "    <tr style=\"text-align: right;\">\n",
       "      <th></th>\n",
       "      <th>engine_displacement</th>\n",
       "      <th>num_cylinders</th>\n",
       "      <th>horsepower</th>\n",
       "      <th>vehicle_weight</th>\n",
       "      <th>acceleration</th>\n",
       "      <th>model_year</th>\n",
       "      <th>origin</th>\n",
       "      <th>fuel_type</th>\n",
       "      <th>drivetrain</th>\n",
       "      <th>num_doors</th>\n",
       "      <th>fuel_efficiency_mpg</th>\n",
       "    </tr>\n",
       "  </thead>\n",
       "  <tbody>\n",
       "    <tr>\n",
       "      <th>0</th>\n",
       "      <td>170</td>\n",
       "      <td>3.0</td>\n",
       "      <td>159.0</td>\n",
       "      <td>3413.433759</td>\n",
       "      <td>17.7</td>\n",
       "      <td>2003</td>\n",
       "      <td>Europe</td>\n",
       "      <td>Gasoline</td>\n",
       "      <td>All-wheel drive</td>\n",
       "      <td>0.0</td>\n",
       "      <td>13.231729</td>\n",
       "    </tr>\n",
       "    <tr>\n",
       "      <th>1</th>\n",
       "      <td>130</td>\n",
       "      <td>5.0</td>\n",
       "      <td>97.0</td>\n",
       "      <td>3149.664934</td>\n",
       "      <td>17.8</td>\n",
       "      <td>2007</td>\n",
       "      <td>USA</td>\n",
       "      <td>Gasoline</td>\n",
       "      <td>Front-wheel drive</td>\n",
       "      <td>0.0</td>\n",
       "      <td>13.688217</td>\n",
       "    </tr>\n",
       "    <tr>\n",
       "      <th>2</th>\n",
       "      <td>170</td>\n",
       "      <td>NaN</td>\n",
       "      <td>78.0</td>\n",
       "      <td>3079.038997</td>\n",
       "      <td>15.1</td>\n",
       "      <td>2018</td>\n",
       "      <td>Europe</td>\n",
       "      <td>Gasoline</td>\n",
       "      <td>Front-wheel drive</td>\n",
       "      <td>0.0</td>\n",
       "      <td>14.246341</td>\n",
       "    </tr>\n",
       "    <tr>\n",
       "      <th>3</th>\n",
       "      <td>220</td>\n",
       "      <td>4.0</td>\n",
       "      <td>NaN</td>\n",
       "      <td>2542.392402</td>\n",
       "      <td>20.2</td>\n",
       "      <td>2009</td>\n",
       "      <td>USA</td>\n",
       "      <td>Diesel</td>\n",
       "      <td>All-wheel drive</td>\n",
       "      <td>2.0</td>\n",
       "      <td>16.912736</td>\n",
       "    </tr>\n",
       "    <tr>\n",
       "      <th>4</th>\n",
       "      <td>210</td>\n",
       "      <td>1.0</td>\n",
       "      <td>140.0</td>\n",
       "      <td>3460.870990</td>\n",
       "      <td>14.4</td>\n",
       "      <td>2009</td>\n",
       "      <td>Europe</td>\n",
       "      <td>Gasoline</td>\n",
       "      <td>All-wheel drive</td>\n",
       "      <td>2.0</td>\n",
       "      <td>12.488369</td>\n",
       "    </tr>\n",
       "    <tr>\n",
       "      <th>...</th>\n",
       "      <td>...</td>\n",
       "      <td>...</td>\n",
       "      <td>...</td>\n",
       "      <td>...</td>\n",
       "      <td>...</td>\n",
       "      <td>...</td>\n",
       "      <td>...</td>\n",
       "      <td>...</td>\n",
       "      <td>...</td>\n",
       "      <td>...</td>\n",
       "      <td>...</td>\n",
       "    </tr>\n",
       "    <tr>\n",
       "      <th>95</th>\n",
       "      <td>200</td>\n",
       "      <td>2.0</td>\n",
       "      <td>232.0</td>\n",
       "      <td>3476.591797</td>\n",
       "      <td>11.0</td>\n",
       "      <td>2016</td>\n",
       "      <td>USA</td>\n",
       "      <td>Gasoline</td>\n",
       "      <td>All-wheel drive</td>\n",
       "      <td>1.0</td>\n",
       "      <td>14.674507</td>\n",
       "    </tr>\n",
       "    <tr>\n",
       "      <th>96</th>\n",
       "      <td>120</td>\n",
       "      <td>5.0</td>\n",
       "      <td>172.0</td>\n",
       "      <td>3475.004528</td>\n",
       "      <td>13.8</td>\n",
       "      <td>2013</td>\n",
       "      <td>USA</td>\n",
       "      <td>Diesel</td>\n",
       "      <td>All-wheel drive</td>\n",
       "      <td>NaN</td>\n",
       "      <td>12.743224</td>\n",
       "    </tr>\n",
       "    <tr>\n",
       "      <th>97</th>\n",
       "      <td>280</td>\n",
       "      <td>2.0</td>\n",
       "      <td>133.0</td>\n",
       "      <td>3398.340992</td>\n",
       "      <td>15.3</td>\n",
       "      <td>2015</td>\n",
       "      <td>Europe</td>\n",
       "      <td>Diesel</td>\n",
       "      <td>All-wheel drive</td>\n",
       "      <td>1.0</td>\n",
       "      <td>13.930128</td>\n",
       "    </tr>\n",
       "    <tr>\n",
       "      <th>98</th>\n",
       "      <td>250</td>\n",
       "      <td>NaN</td>\n",
       "      <td>109.0</td>\n",
       "      <td>3210.919484</td>\n",
       "      <td>14.6</td>\n",
       "      <td>2021</td>\n",
       "      <td>USA</td>\n",
       "      <td>Diesel</td>\n",
       "      <td>All-wheel drive</td>\n",
       "      <td>0.0</td>\n",
       "      <td>13.128946</td>\n",
       "    </tr>\n",
       "    <tr>\n",
       "      <th>99</th>\n",
       "      <td>240</td>\n",
       "      <td>5.0</td>\n",
       "      <td>194.0</td>\n",
       "      <td>3019.882237</td>\n",
       "      <td>17.5</td>\n",
       "      <td>2017</td>\n",
       "      <td>USA</td>\n",
       "      <td>Gasoline</td>\n",
       "      <td>All-wheel drive</td>\n",
       "      <td>1.0</td>\n",
       "      <td>14.882406</td>\n",
       "    </tr>\n",
       "  </tbody>\n",
       "</table>\n",
       "<p>100 rows × 11 columns</p>\n",
       "</div>"
      ],
      "text/plain": [
       "    engine_displacement  num_cylinders  horsepower  vehicle_weight  \\\n",
       "0                   170            3.0       159.0     3413.433759   \n",
       "1                   130            5.0        97.0     3149.664934   \n",
       "2                   170            NaN        78.0     3079.038997   \n",
       "3                   220            4.0         NaN     2542.392402   \n",
       "4                   210            1.0       140.0     3460.870990   \n",
       "..                  ...            ...         ...             ...   \n",
       "95                  200            2.0       232.0     3476.591797   \n",
       "96                  120            5.0       172.0     3475.004528   \n",
       "97                  280            2.0       133.0     3398.340992   \n",
       "98                  250            NaN       109.0     3210.919484   \n",
       "99                  240            5.0       194.0     3019.882237   \n",
       "\n",
       "    acceleration  model_year  origin fuel_type         drivetrain  num_doors  \\\n",
       "0           17.7        2003  Europe  Gasoline    All-wheel drive        0.0   \n",
       "1           17.8        2007     USA  Gasoline  Front-wheel drive        0.0   \n",
       "2           15.1        2018  Europe  Gasoline  Front-wheel drive        0.0   \n",
       "3           20.2        2009     USA    Diesel    All-wheel drive        2.0   \n",
       "4           14.4        2009  Europe  Gasoline    All-wheel drive        2.0   \n",
       "..           ...         ...     ...       ...                ...        ...   \n",
       "95          11.0        2016     USA  Gasoline    All-wheel drive        1.0   \n",
       "96          13.8        2013     USA    Diesel    All-wheel drive        NaN   \n",
       "97          15.3        2015  Europe    Diesel    All-wheel drive        1.0   \n",
       "98          14.6        2021     USA    Diesel    All-wheel drive        0.0   \n",
       "99          17.5        2017     USA  Gasoline    All-wheel drive        1.0   \n",
       "\n",
       "    fuel_efficiency_mpg  \n",
       "0             13.231729  \n",
       "1             13.688217  \n",
       "2             14.246341  \n",
       "3             16.912736  \n",
       "4             12.488369  \n",
       "..                  ...  \n",
       "95            14.674507  \n",
       "96            12.743224  \n",
       "97            13.930128  \n",
       "98            13.128946  \n",
       "99            14.882406  \n",
       "\n",
       "[100 rows x 11 columns]"
      ]
     },
     "execution_count": 164,
     "metadata": {},
     "output_type": "execute_result"
    }
   ],
   "source": [
    "df = pd.read_csv('car_fuel_efficiency.csv.1')\n",
    "df.head(100)"
   ]
  },
  {
   "cell_type": "code",
   "execution_count": 163,
   "id": "85be77d9-5200-47cb-930d-23dd98996a22",
   "metadata": {},
   "outputs": [
    {
     "data": {
      "text/plain": [
       "9704"
      ]
     },
     "execution_count": 163,
     "metadata": {},
     "output_type": "execute_result"
    }
   ],
   "source": [
    "df['vehicle_weight'].nunique()"
   ]
  },
  {
   "cell_type": "code",
   "execution_count": null,
   "id": "9b9ac057-201a-46b2-be8e-8079987dc1cb",
   "metadata": {},
   "outputs": [],
   "source": [
    "df['fuel_type'].sum()"
   ]
  },
  {
   "cell_type": "code",
   "execution_count": 161,
   "id": "01722f8f-ecac-435c-92fa-f4b845688c4f",
   "metadata": {},
   "outputs": [
    {
     "data": {
      "text/plain": [
       "np.float64(25.96722204888372)"
      ]
     },
     "execution_count": 161,
     "metadata": {},
     "output_type": "execute_result"
    }
   ],
   "source": [
    "df['fuel_efficiency_mpg'].max()"
   ]
  },
  {
   "cell_type": "code",
   "execution_count": 160,
   "id": "8d59e879-cf8b-4096-828e-aa31048cd801",
   "metadata": {},
   "outputs": [
    {
     "data": {
      "text/plain": [
       "np.int64(0)"
      ]
     },
     "execution_count": 160,
     "metadata": {},
     "output_type": "execute_result"
    }
   ],
   "source": [
    "df['fuel_type'].isna().sum()"
   ]
  },
  {
   "cell_type": "code",
   "execution_count": 162,
   "id": "1b7ade15-a58d-42c8-bff2-f3e8b9c5ac9b",
   "metadata": {},
   "outputs": [
    {
     "data": {
      "text/plain": [
       "np.float64(149.0)"
      ]
     },
     "execution_count": 162,
     "metadata": {},
     "output_type": "execute_result"
    }
   ],
   "source": [
    "df['horsepower'].median()"
   ]
  },
  {
   "cell_type": "code",
   "execution_count": 159,
   "id": "693baba1-c7b6-4321-b8c9-408dc23dde2a",
   "metadata": {},
   "outputs": [
    {
     "data": {
      "text/plain": [
       "num_cylinders    482\n",
       "horsepower       708\n",
       "acceleration     930\n",
       "num_doors        502\n",
       "dtype: int64"
      ]
     },
     "execution_count": 159,
     "metadata": {},
     "output_type": "execute_result"
    }
   ],
   "source": [
    "df.isnull().sum()[df.isnull().sum() > 0]"
   ]
  },
  {
   "cell_type": "code",
   "execution_count": 153,
   "id": "96907b65-9615-4db9-bfbd-dbbe1dbe3f39",
   "metadata": {},
   "outputs": [
    {
     "data": {
      "text/plain": [
       "'2.3.1'"
      ]
     },
     "execution_count": 153,
     "metadata": {},
     "output_type": "execute_result"
    }
   ],
   "source": [
    "pd.__version__"
   ]
  },
  {
   "cell_type": "code",
   "execution_count": 4,
   "id": "cf9059ba-88a4-44f7-9352-8c5de7bd5b23",
   "metadata": {},
   "outputs": [],
   "source": [
    "zeros_array = np.zeros(10)\n",
    "ones_array = np.ones(10)\n",
    "constant_array = np.full(10, 3)"
   ]
  },
  {
   "cell_type": "code",
   "execution_count": 5,
   "id": "349294c7-0b2d-4139-ba7b-7d738c2db51c",
   "metadata": {},
   "outputs": [],
   "source": [
    "my_list = [2, 3, 4]\n",
    "array_from_list = np.array(my_list)"
   ]
  },
  {
   "cell_type": "code",
   "execution_count": 6,
   "id": "34f39edf-e8e5-4fa2-b3be-812d5072f4b3",
   "metadata": {},
   "outputs": [
    {
     "name": "stdout",
     "output_type": "stream",
     "text": [
      "[2 3 4]\n"
     ]
    }
   ],
   "source": [
    "print(array_from_list)"
   ]
  },
  {
   "cell_type": "code",
   "execution_count": 7,
   "id": "537fd13b-52f6-45b2-ac20-2c0b95a0f6e4",
   "metadata": {},
   "outputs": [],
   "source": [
    "range_array = np.arange(10)  # Creates an array from 0 to 9"
   ]
  },
  {
   "cell_type": "code",
   "execution_count": 8,
   "id": "e7add2b0-2b77-4e90-aaea-4e32053708ae",
   "metadata": {},
   "outputs": [],
   "source": [
    "linspace_array = np.linspace(0, 1, 11)  # Creates 11 numbers from 0 to 1"
   ]
  },
  {
   "cell_type": "code",
   "execution_count": 9,
   "id": "f915d72b-e02e-4ca9-ac2c-d9c0891e897d",
   "metadata": {},
   "outputs": [
    {
     "name": "stdout",
     "output_type": "stream",
     "text": [
      "[0.  0.1 0.2 0.3 0.4 0.5 0.6 0.7 0.8 0.9 1. ]\n"
     ]
    }
   ],
   "source": [
    "print(linspace_array)"
   ]
  },
  {
   "cell_type": "code",
   "execution_count": 10,
   "id": "8faf6135-32df-478b-b0c5-37bb2980ae05",
   "metadata": {},
   "outputs": [],
   "source": [
    "zeros_matrix = np.zeros((5, 2))\n",
    "ones_matrix = np.ones((5, 2))\n",
    "constant_matrix = np.full((5, 2), 3)"
   ]
  },
  {
   "cell_type": "code",
   "execution_count": 11,
   "id": "10b7a4f9-0390-41e7-a79c-92ad126576d4",
   "metadata": {},
   "outputs": [
    {
     "name": "stdout",
     "output_type": "stream",
     "text": [
      "[[0. 0.]\n",
      " [0. 0.]\n",
      " [0. 0.]\n",
      " [0. 0.]\n",
      " [0. 0.]]\n",
      "[[1. 1.]\n",
      " [1. 1.]\n",
      " [1. 1.]\n",
      " [1. 1.]\n",
      " [1. 1.]]\n",
      "[[3 3]\n",
      " [3 3]\n",
      " [3 3]\n",
      " [3 3]\n",
      " [3 3]]\n"
     ]
    }
   ],
   "source": [
    "print(zeros_matrix)\n",
    "print(ones_matrix)\n",
    "print(constant_matrix)"
   ]
  },
  {
   "cell_type": "code",
   "execution_count": 12,
   "id": "c00f9bce-3ee3-4ca4-932b-b0dd41ba39ea",
   "metadata": {},
   "outputs": [],
   "source": [
    "arr = np.array([[2, 3, 4], [4, 5, 6]])\n",
    "first_row = arr[0]      # Gets the first row\n",
    "first_col = arr[:, 0]  # Gets the first column"
   ]
  },
  {
   "cell_type": "code",
   "execution_count": 13,
   "id": "bfb19a85-6057-4be2-a0a1-a97b7064b14d",
   "metadata": {},
   "outputs": [
    {
     "name": "stdout",
     "output_type": "stream",
     "text": [
      "[[2 3 4]\n",
      " [4 5 6]]\n",
      "[2 3 4]\n",
      "[2 4]\n"
     ]
    }
   ],
   "source": [
    "print(arr)\n",
    "print(first_row)\n",
    "print(first_col)"
   ]
  },
  {
   "cell_type": "code",
   "execution_count": 14,
   "id": "4cc33be3-1a1c-4796-b4e7-8bc39e0ff9c8",
   "metadata": {},
   "outputs": [],
   "source": [
    "np.random.seed(2)  # Set the seed\n",
    "random_array = np.random.rand(5, 2)  # Generates random numbers between 0 and 1"
   ]
  },
  {
   "cell_type": "code",
   "execution_count": 15,
   "id": "8369e25f-f9c2-4490-a078-bc95685ca885",
   "metadata": {},
   "outputs": [
    {
     "name": "stdout",
     "output_type": "stream",
     "text": [
      "<module 'numpy' from '/home/codespace/.local/lib/python3.12/site-packages/numpy/__init__.py'>\n",
      "[[0.4359949  0.02592623]\n",
      " [0.54966248 0.43532239]\n",
      " [0.4203678  0.33033482]\n",
      " [0.20464863 0.61927097]\n",
      " [0.29965467 0.26682728]]\n"
     ]
    }
   ],
   "source": [
    "print(np)\n",
    "print(random_array)"
   ]
  },
  {
   "cell_type": "code",
   "execution_count": 16,
   "id": "1bac6612-c7a2-476c-ac18-4fb13235a0eb",
   "metadata": {},
   "outputs": [],
   "source": [
    "arr = arr + 1   # Adds 1 to each element\n",
    "arr = arr * 2   # Multiplies each element by 2\n",
    "# Similar operations for division and exponentiation"
   ]
  },
  {
   "cell_type": "code",
   "execution_count": 17,
   "id": "fe0e93bb-340b-4fa7-a6ab-8e44fe67eed4",
   "metadata": {},
   "outputs": [
    {
     "name": "stdout",
     "output_type": "stream",
     "text": [
      "[[ 6  8 10]\n",
      " [10 12 14]]\n"
     ]
    }
   ],
   "source": [
    "print(arr)"
   ]
  },
  {
   "cell_type": "code",
   "execution_count": 18,
   "id": "d500644d-1385-4001-ab3c-e682e88ad885",
   "metadata": {},
   "outputs": [],
   "source": [
    "arr1 = np.ones(4)\n",
    "arr2 = np.full(4, 3)\n",
    "result = arr1 + arr2  # Element-wise addition\n",
    "result = arr1 / arr2  # Element-wise division"
   ]
  },
  {
   "cell_type": "code",
   "execution_count": 19,
   "id": "89ed6059-d9e0-4de0-ba01-42e400789a6d",
   "metadata": {},
   "outputs": [
    {
     "name": "stdout",
     "output_type": "stream",
     "text": [
      "[1. 1. 1. 1.]\n",
      "[3 3 3 3]\n",
      "[0.33333333 0.33333333 0.33333333 0.33333333]\n"
     ]
    }
   ],
   "source": [
    "print(arr1)\n",
    "print(arr2)\n",
    "print(result)"
   ]
  },
  {
   "cell_type": "code",
   "execution_count": 20,
   "id": "3830ca22-db0a-4e51-91a7-c38d9b1f3bd6",
   "metadata": {},
   "outputs": [],
   "source": [
    "arr = np.array([1, 2, 3, 4])\n",
    "greater_than_2 = arr > 2  # Produces [False, False, True, True]"
   ]
  },
  {
   "cell_type": "code",
   "execution_count": 21,
   "id": "4a70f0a9-a76c-4d6d-80d4-58eb18c3e8ee",
   "metadata": {},
   "outputs": [
    {
     "name": "stdout",
     "output_type": "stream",
     "text": [
      "[1 2 3 4]\n",
      "[False False  True  True]\n"
     ]
    }
   ],
   "source": [
    "print(arr)\n",
    "print(greater_than_2)"
   ]
  },
  {
   "cell_type": "code",
   "execution_count": 22,
   "id": "7fcaefb2-9539-4678-8e5e-e0a34a7c2431",
   "metadata": {},
   "outputs": [],
   "source": [
    "selected_elements = arr[arr > 1]  # Gets elements greater than 1"
   ]
  },
  {
   "cell_type": "code",
   "execution_count": 23,
   "id": "5b442d04-b510-489c-a08f-4c3245e63ac9",
   "metadata": {},
   "outputs": [
    {
     "name": "stdout",
     "output_type": "stream",
     "text": [
      "[2 3 4]\n"
     ]
    }
   ],
   "source": [
    "print(selected_elements)"
   ]
  },
  {
   "cell_type": "code",
   "execution_count": 24,
   "id": "1cfca19e-2483-4878-ac76-6e85f886b730",
   "metadata": {},
   "outputs": [],
   "source": [
    "min_value = arr.min()    # Minimum value\n",
    "max_value = arr.max()    # Maximum value\n",
    "sum_value = arr.sum()    # Sum of all elements\n",
    "mean_value = arr.mean()  # Mean (average) value\n",
    "std_deviation = arr.std()  # Standard deviation"
   ]
  },
  {
   "cell_type": "code",
   "execution_count": 25,
   "id": "1371d880-3ad3-4e3c-a39a-71f6f099a90a",
   "metadata": {},
   "outputs": [
    {
     "name": "stdout",
     "output_type": "stream",
     "text": [
      "1\n",
      "4\n",
      "10\n",
      "2.5\n",
      "1.118033988749895\n"
     ]
    }
   ],
   "source": [
    "print(min_value)\n",
    "print(max_value)\n",
    "print(sum_value)\n",
    "print(mean_value)\n",
    "print(std_deviation)\n"
   ]
  },
  {
   "cell_type": "code",
   "execution_count": 26,
   "id": "bb595e38-07dd-4b94-9a8d-140b4148df84",
   "metadata": {},
   "outputs": [],
   "source": [
    "my_array = np.array([1, 2, 3, 4, 5])\n"
   ]
  },
  {
   "cell_type": "code",
   "execution_count": 27,
   "id": "0c7afad3-842f-407a-aae4-ac290ef90159",
   "metadata": {},
   "outputs": [
    {
     "name": "stdout",
     "output_type": "stream",
     "text": [
      "[1 2 3 4 5]\n"
     ]
    }
   ],
   "source": [
    "print(my_array)"
   ]
  },
  {
   "cell_type": "code",
   "execution_count": 29,
   "id": "274bb14b-5b6c-4824-859b-a46ee7f4834d",
   "metadata": {},
   "outputs": [
    {
     "name": "stdout",
     "output_type": "stream",
     "text": [
      "[1.1 2.2 3.3 4.4 5.5]\n"
     ]
    }
   ],
   "source": [
    "\t\n",
    "my_float_array = np.array([1.1, 2.2, 3.3, 4.4, 5.5], dtype=float)\n",
    "print(my_float_array)"
   ]
  },
  {
   "cell_type": "code",
   "execution_count": 30,
   "id": "3ae8339f-6db1-40be-984d-e26f3a697e6f",
   "metadata": {},
   "outputs": [
    {
     "name": "stdout",
     "output_type": "stream",
     "text": [
      "[1 3 5 7 9]\n"
     ]
    }
   ],
   "source": [
    "my_range_array = np.arange(1, 10, 2)\n",
    "print(my_range_array)"
   ]
  },
  {
   "cell_type": "code",
   "execution_count": 31,
   "id": "3e39c2bd-ed78-4566-8d7c-4308851cf21b",
   "metadata": {},
   "outputs": [
    {
     "name": "stdout",
     "output_type": "stream",
     "text": [
      "[0. 0. 0. 0. 0.]\n",
      "[1. 1. 1. 1. 1. 1. 1. 1. 1. 1.]\n",
      "[2.5 2.5 2.5 2.5 2.5 2.5 2.5 2.5 2.5 2.5]\n",
      "[0 1 2 3 4 5 6 7 8 9]\n",
      "[3 4 5 6 7 8 9]\n",
      "[0.  0.1 0.2 0.3 0.4 0.5 0.6 0.7 0.8 0.9 1. ]\n"
     ]
    }
   ],
   "source": [
    "# argument is the size of the array\n",
    "# result is an array with 5 zeros\n",
    "n = np.zeros(5)\n",
    "# Output:\n",
    "# array([0., 0., 0., 0., 0.])\n",
    "print(n)\n",
    " \n",
    "o = np.ones(10)\n",
    "# Output:\n",
    "# array([1., 1., 1., 1., 1., 1., 1., 1., 1., 1.])\n",
    "print(o)\n",
    "\n",
    "# first argument is the size of the array\n",
    "# second argument is the element you want to fill the array with\n",
    "f = np.full(10, 2.5)\n",
    "print(f)\n",
    "# Output:\n",
    "# array([2.5, 2.5, 2.5, 2.5, 2.5, 2.5, 2.5, 2.5, 2.5, 2.5])\n",
    " \n",
    "# create an array with the range from 0 to <argument>\n",
    "a = np.arange(10)\n",
    "# Output: \n",
    "# array([0, 1, 2, 3, 4, 5, 6, 7, 8, 9])\n",
    "print(a)\n",
    "\n",
    "b = np.arange(3, 10)\n",
    "# Output: \n",
    "# array([3, 4, 5, 6, 7, 8, 9])\n",
    "print(b) \n",
    "\n",
    "# linspace creates an array filled with numbers between first argument and second argument\n",
    "c = np.linspace(0, 1, 11)\n",
    "print(c)\n",
    "# Output:\n",
    "# array([0. , 0.1, 0.2, 0.3, 0.4, 0.5, 0.6, 0.7, 0.8, 0.9, 1. ])"
   ]
  },
  {
   "cell_type": "code",
   "execution_count": 32,
   "id": "7d3ff42c-aa9c-4892-940f-e3ffd3aef89e",
   "metadata": {},
   "outputs": [
    {
     "name": "stdout",
     "output_type": "stream",
     "text": [
      "[ 1  2  3  5  7 12]\n"
     ]
    }
   ],
   "source": [
    "my_list = [1, 2, 3, 5, 7, 12]\n",
    "my_array = np.array(my_list)\n",
    "print(my_array)"
   ]
  },
  {
   "cell_type": "code",
   "execution_count": 33,
   "id": "37bfae78-33da-4013-b4d3-634883a16c53",
   "metadata": {},
   "outputs": [
    {
     "name": "stdout",
     "output_type": "stream",
     "text": [
      "2\n"
     ]
    }
   ],
   "source": [
    "\t\n",
    "second_element = my_array[1]\n",
    "print(second_element)"
   ]
  },
  {
   "cell_type": "code",
   "execution_count": 34,
   "id": "a1acb48b-5f86-4aab-9c57-1343867852a0",
   "metadata": {},
   "outputs": [
    {
     "name": "stdout",
     "output_type": "stream",
     "text": [
      "12\n"
     ]
    }
   ],
   "source": [
    "last_element = my_array[-1]\n",
    "print(last_element)"
   ]
  },
  {
   "cell_type": "code",
   "execution_count": 35,
   "id": "78eaea40-1ccf-4063-be8d-d7b9520087db",
   "metadata": {},
   "outputs": [
    {
     "name": "stdout",
     "output_type": "stream",
     "text": [
      "[2 3 5]\n"
     ]
    }
   ],
   "source": [
    "subset_array = my_array[1:4]\n",
    "print(subset_array)"
   ]
  },
  {
   "cell_type": "code",
   "execution_count": 36,
   "id": "77386dd0-d8f2-4cca-bac6-52745bc43432",
   "metadata": {},
   "outputs": [
    {
     "name": "stdout",
     "output_type": "stream",
     "text": [
      "[ 3  5  7 12]\n"
     ]
    }
   ],
   "source": [
    "subset_array = my_array[2:]\n",
    "print(subset_array)"
   ]
  },
  {
   "cell_type": "code",
   "execution_count": 37,
   "id": "56473bb9-e42d-415d-8cd7-e3012a2788c1",
   "metadata": {},
   "outputs": [
    {
     "name": "stdout",
     "output_type": "stream",
     "text": [
      "[[1 2 3]\n",
      " [4 5 6]]\n"
     ]
    }
   ],
   "source": [
    "arr = np.array([[1, 2, 3], [4, 5, 6]])\n",
    "print(arr)"
   ]
  },
  {
   "cell_type": "code",
   "execution_count": 38,
   "id": "afca83aa-16be-4b52-b01f-02537f746680",
   "metadata": {},
   "outputs": [
    {
     "name": "stdout",
     "output_type": "stream",
     "text": [
      "[[ 6  8]\n",
      " [10 12]]\n",
      "[[ 5 12]\n",
      " [21 32]]\n"
     ]
    }
   ],
   "source": [
    "arr1 = np.array([[1, 2], [3, 4]])\n",
    "arr2 = np.array([[5, 6], [7, 8]])\n",
    " \n",
    "# Element-wise addition\n",
    "result = arr1 + arr2\n",
    "print(result)\n",
    "# Output:\n",
    "# [[ 6  8]\n",
    "# [10 12]]\n",
    " \n",
    "# Element-wise multiplication\n",
    "result = arr1 * arr2\n",
    "print(result)\n",
    "# Output:\n",
    "# [[ 5 12]\n",
    "#  [21 32]]"
   ]
  },
  {
   "cell_type": "code",
   "execution_count": 39,
   "id": "a4a7064f-feba-4e62-9298-f1e3e4ee8856",
   "metadata": {},
   "outputs": [
    {
     "name": "stdout",
     "output_type": "stream",
     "text": [
      "21\n",
      "[2.5 3.5 4.5]\n"
     ]
    }
   ],
   "source": [
    "# Calculate the sum of all elements\n",
    "sum_val = np.sum(arr)\n",
    "print(sum_val)\n",
    "# Output:\n",
    "# 21\n",
    " \n",
    "# Calculate the mean of each column\n",
    "mean_val = np.mean(arr, axis=0)\n",
    "print(mean_val)\n",
    "# Output:\n",
    "# [2.5 3.5 4.5]"
   ]
  },
  {
   "cell_type": "code",
   "execution_count": 40,
   "id": "c98110fa-bfbd-4c61-a53c-ffc790dea0fd",
   "metadata": {},
   "outputs": [
    {
     "name": "stdout",
     "output_type": "stream",
     "text": [
      "[[0. 0.]\n",
      " [0. 0.]\n",
      " [0. 0.]\n",
      " [0. 0.]\n",
      " [0. 0.]]\n",
      "[[1 2 3]\n",
      " [4 5 6]\n",
      " [7 8 9]]\n"
     ]
    }
   ],
   "source": [
    "# creates an array with 5 rows and 2 columns, filled with zeros\n",
    "x = np.zeros((5, 2))\n",
    "# Output:\n",
    "#array([[0., 0.],\n",
    "#       [0., 0.],\n",
    "#       [0., 0.],\n",
    "#       [0., 0.],\n",
    "#       [0., 0.]])\n",
    " \n",
    "# creates an array from a python list\n",
    "# here we have a list of lists\n",
    "y = np.array([\n",
    "    [1, 2, 3],\n",
    "    [4, 5, 6],\n",
    "    [7, 8, 9]\n",
    "])\n",
    "# Output:\n",
    "# array([[1, 2, 3],\n",
    "#       [4, 5, 6],\n",
    "#       [7, 8, 9]])\n",
    "print(x)\n",
    "print(y)"
   ]
  },
  {
   "cell_type": "code",
   "execution_count": 41,
   "id": "d17a0552-3bc5-40a5-a284-d3ea99ee2cc9",
   "metadata": {},
   "outputs": [
    {
     "name": "stdout",
     "output_type": "stream",
     "text": [
      "3\n"
     ]
    }
   ],
   "source": [
    "arr = np.array([[1, 2, 3], [4, 5, 6]])\n",
    " \n",
    "# Accessing a single element\n",
    "element = arr[0, 2]\n",
    "print(element)\n",
    "# Output: 3"
   ]
  },
  {
   "cell_type": "code",
   "execution_count": 42,
   "id": "20b3d874-62e2-44e6-ae6e-5502f1017bd2",
   "metadata": {},
   "outputs": [
    {
     "name": "stdout",
     "output_type": "stream",
     "text": [
      "[4 5 6]\n"
     ]
    }
   ],
   "source": [
    "arr = np.array([[1, 2, 3], [4, 5, 6]])\n",
    " \n",
    "# Accessing a single row\n",
    "row = arr[1, :]\n",
    "print(row)\n",
    "# Output: [4 5 6]"
   ]
  },
  {
   "cell_type": "code",
   "execution_count": 43,
   "id": "bea4c77c-450d-41bb-b56f-a92af8006312",
   "metadata": {},
   "outputs": [
    {
     "name": "stdout",
     "output_type": "stream",
     "text": [
      "[[1 2 3]\n",
      " [7 8 9]]\n"
     ]
    }
   ],
   "source": [
    "arr = np.array([[1, 2, 3], [4, 5, 6], [7, 8, 9]])\n",
    " \n",
    "# Accessing multiple rows\n",
    "rows = arr[[0, 2], :]\n",
    "print(rows)"
   ]
  },
  {
   "cell_type": "code",
   "execution_count": 44,
   "id": "af193ee3-9124-4ad6-a0e6-bdcc24592864",
   "metadata": {},
   "outputs": [
    {
     "name": "stdout",
     "output_type": "stream",
     "text": [
      "[[1 2 3]\n",
      " [4 5 6]\n",
      " [7 8 9]]\n",
      "[[12 13 14]\n",
      " [ 4  5  6]\n",
      " [ 7  8  9]]\n"
     ]
    }
   ],
   "source": [
    "n = np.array([\n",
    "    [1, 2, 3],\n",
    "    [4, 5, 6],\n",
    "    [7, 8, 9]\n",
    "])\n",
    " \n",
    "# outputs the first row\n",
    "n[0]\n",
    "# Output:\n",
    "# array([ 1, 20,  3])\n",
    "print(n)\n",
    " \n",
    "n[0] = [12, 13, 14]\n",
    "n\n",
    "# Output:\n",
    "# array([[12, 13, 14],\n",
    "#       [ 4,  5,  6],\n",
    "#       [ 7,  8,  9]])\n",
    "print(n)"
   ]
  },
  {
   "cell_type": "code",
   "execution_count": 45,
   "id": "3c8c62ca-2a87-44e6-b963-0619c7897427",
   "metadata": {},
   "outputs": [
    {
     "name": "stdout",
     "output_type": "stream",
     "text": [
      "[2 5]\n"
     ]
    }
   ],
   "source": [
    "arr = np.array([[1, 2, 3], [4, 5, 6]])\n",
    " \n",
    "# Accessing a single column\n",
    "column = arr[:, 1]\n",
    "print(column)\n",
    "# Output: [2 5]"
   ]
  },
  {
   "cell_type": "code",
   "execution_count": 46,
   "id": "53c3f7e2-809c-4a32-93ad-47cacda0153e",
   "metadata": {},
   "outputs": [
    {
     "name": "stdout",
     "output_type": "stream",
     "text": [
      "[[1 3]\n",
      " [4 6]\n",
      " [7 9]]\n"
     ]
    }
   ],
   "source": [
    "arr = np.array([[1, 2, 3], [4, 5, 6], [7, 8, 9]])\n",
    " \n",
    "# Accessing multiple columns\n",
    "columns = arr[:, [0, 2]]\n",
    "print(columns)"
   ]
  },
  {
   "cell_type": "code",
   "execution_count": 47,
   "id": "ab41fb0b-1f6a-42ec-b50f-8a1b21560ded",
   "metadata": {},
   "outputs": [
    {
     "name": "stdout",
     "output_type": "stream",
     "text": [
      "[[1 2 3]\n",
      " [4 5 6]\n",
      " [7 8 9]]\n",
      "[[1 2 3]\n",
      " [4 5 6]\n",
      " [7 8 9]]\n",
      "[[12  2  3]\n",
      " [13  5  6]\n",
      " [14  8  9]]\n"
     ]
    }
   ],
   "source": [
    "n1 = np.array([\n",
    "    [1, 2, 3],\n",
    "    [4, 5, 6],\n",
    "    [7, 8, 9]\n",
    "])\n",
    "\n",
    "print(n1)\n",
    " \n",
    "# outputs the first column\n",
    "n1[:, 0]\n",
    "# Output:\n",
    "# array([1, 4, 7])\n",
    "print(n1)\n",
    " \n",
    "n1[:, 0] = [12, 13, 14]\n",
    "print(n1)\n",
    "# Output:\n",
    "# array([[12,  2,  3],\n",
    "#        [13,  5,  6],\n",
    "#        [14,  8,  9]])"
   ]
  },
  {
   "cell_type": "code",
   "execution_count": 48,
   "id": "ce3c6471-b1dc-4849-b02f-6e0c1b5056e1",
   "metadata": {},
   "outputs": [
    {
     "name": "stdout",
     "output_type": "stream",
     "text": [
      "[[1 2 3]\n",
      " [4 5 6]\n",
      " [7 8 9]]\n",
      "[[1 2 3]\n",
      " [4 5 6]\n",
      " [7 8 9]]\n",
      "[[1 2 3]\n",
      " [4 5 6]\n",
      " [7 8 9]]\n",
      "[[1 2 0]\n",
      " [4 5 1]\n",
      " [7 8 2]]\n"
     ]
    }
   ],
   "source": [
    "n4 = np.array([\n",
    "    [1, 2, 3],\n",
    "    [4, 5, 6],\n",
    "    [7, 8, 9]\n",
    "])\n",
    "print(n4) \n",
    "# outputs the first column\n",
    "n4[:,0]\n",
    "# Output: \n",
    "# array([1,  4,  7])\n",
    "print(n4) \n",
    "\n",
    "# outputs all the columns\n",
    "n4[:]\n",
    "# Output:\n",
    "# array([[1, 2, 3],\n",
    "#       [ 4,  5,  6],\n",
    "#       [ 7,  8,  9]])\n",
    "print(n4) \n",
    " \n",
    "n4[:, 2] = [0, 1, 2]\n",
    "print(n4) \n",
    "\n",
    "# Output:\n",
    "# array([[1, 2,  0],\n",
    "#       [ 4,  5,  1],\n",
    "#       [ 7,  8,  2]])"
   ]
  },
  {
   "cell_type": "code",
   "execution_count": 49,
   "id": "2cfec3c1-104d-48a4-84fa-3a75f4b6cd75",
   "metadata": {},
   "outputs": [
    {
     "name": "stdout",
     "output_type": "stream",
     "text": [
      "[4 5 7 3 6]\n",
      "[[0.51357812 0.18443987 0.78533515 0.85397529]\n",
      " [0.49423684 0.84656149 0.07964548 0.50524609]\n",
      " [0.0652865  0.42812233 0.09653092 0.12715997]]\n",
      "[[[-1.38939342  0.49059556]\n",
      "  [-0.21943638 -0.30837444]\n",
      "  [-0.45571477 -2.12452767]]\n",
      "\n",
      " [[ 0.54979824 -1.16790025]\n",
      "  [ 1.08006357 -3.4918143 ]\n",
      "  [ 1.27004848 -0.48921489]]]\n"
     ]
    }
   ],
   "source": [
    "# Generate a 1-dimensional array of 5 random integers between 0 and 9\n",
    "random_integers = np.random.randint(10, size=5)\n",
    "print(random_integers)\n",
    "# Output: [2 5 7 1 8]\n",
    " \n",
    "# Generate a 2-dimensional array of shape (3, 4) \n",
    "# with random floats between 0 and 1\n",
    "random_floats = np.random.random((3, 4))\n",
    "print(random_floats)\n",
    "# Output:\n",
    "# [[0.0863851  0.83574087 0.79192621 0.85248822]\n",
    "#  [0.14040051 0.5714931  0.7586195  0.48544792]\n",
    "#  [0.4304003  0.76688989 0.68447497 0.54361942]]\n",
    " \n",
    "# Generate a 3-dimensional array of shape (2, 3, 2) \n",
    "# with random values from a standard normal distribution\n",
    "random_normal = np.random.normal(size=(2, 3, 2))\n",
    "print(random_normal)\n",
    "# Output:\n",
    "# [[[-0.27013393  0.54416022]\n",
    "#   [ 0.02537238 -0.78380969]\n",
    "#   [-1.25909646 -1.04630766]]\n",
    "#\n",
    "#  [[ 0.34262622 -0.66770036]\n",
    "#   [-0.35426751  0.00569635]\n",
    "#   [-0.05665257  0.02068191]]]\n"
   ]
  },
  {
   "cell_type": "code",
   "execution_count": 51,
   "id": "6896c4aa-869b-4662-ba39-c360d730d6e4",
   "metadata": {},
   "outputs": [
    {
     "name": "stdout",
     "output_type": "stream",
     "text": [
      "[[0.20464863 0.61927097]\n",
      " [0.29965467 0.26682728]\n",
      " [0.62113383 0.52914209]\n",
      " [0.13457995 0.51357812]\n",
      " [0.18443987 0.78533515]]\n",
      "[[0.4359949  0.02592623]\n",
      " [0.54966248 0.43532239]\n",
      " [0.4203678  0.33033482]\n",
      " [0.20464863 0.61927097]\n",
      " [0.29965467 0.26682728]]\n",
      "[[43.59949021  2.59262318]\n",
      " [54.96624779 43.53223926]\n",
      " [42.03678021 33.0334821 ]\n",
      " [20.4648634  61.92709664]\n",
      " [29.96546737 26.68272751]]\n",
      "[[40 15]\n",
      " [72 22]\n",
      " [43 82]\n",
      " [75  7]\n",
      " [34 49]]\n"
     ]
    }
   ],
   "source": [
    "# generates a 2-dimensional array of size 5 rows and 2 columns\n",
    "# with random numbers between 0 and 1 \n",
    "# rand samples from standard uniform distribution\n",
    "z = np.random.rand(5, 2)\n",
    "# Output:\n",
    "# array([[0.83575882, 0.03277884],\n",
    "#       [0.78785763, 0.34340225],\n",
    "#       [0.79212789, 0.75564912],\n",
    "#       [0.78937584, 0.4326158 ],\n",
    "#       [0.90909093, 0.82098053]])\n",
    "print(z)\n",
    " \n",
    "# when you set the random seed it's possible to reproduce the \n",
    "# same \"random\" values\n",
    "np.random.seed(2)\n",
    "t = np.random.rand(5, 2)\n",
    "# Output:\n",
    "# array([[0.4359949 , 0.02592623],\n",
    "#       [0.54966248, 0.43532239],\n",
    "#       [0.4203678 , 0.33033482],\n",
    "#       [0.20464863, 0.61927097],\n",
    "#       [0.29965467, 0.26682728]])\n",
    "print(t)\n",
    " \n",
    "# randn samples from standard normal distribution\n",
    "np.random.seed(2)\n",
    "np.random.randn(5, 2)\n",
    "# Output:\n",
    "# array([[-0.41675785, -0.05626683],\n",
    "#       [-2.1361961 ,  1.64027081],\n",
    "#       [-1.79343559, -0.84174737],\n",
    "#       [ 0.50288142, -1.24528809],\n",
    "#       [-1.05795222, -0.90900761]])\n",
    "w =  np.random.randn(5, 2)\n",
    "# creates random numbers between 0 and 100\n",
    "np.random.seed(2)\n",
    "z = 100 * np.random.rand(5, 2)\n",
    "# Output:\n",
    "# array([[43.59949021,  2.59262318],\n",
    "#       [54.96624779, 43.53223926],\n",
    "#       [42.03678021, 33.0334821 ],\n",
    "#       [20.4648634 , 61.92709664],\n",
    "#       [29.96546737, 26.68272751]])\n",
    "print(z) \n",
    "# creates an array of random integer numbers\n",
    "np.random.seed(2)\n",
    "q = np.random.randint(low=0, high=100, size=(5, 2))\n",
    "print(q)\n",
    "# Output:\n",
    "# array([[40, 15],\n",
    "#       [72, 22],\n",
    "#       [43, 82],\n",
    "#       [75,  7],\n",
    "#       [34, 49]])"
   ]
  },
  {
   "cell_type": "code",
   "execution_count": 52,
   "id": "c988e9ad-1261-4928-9ba6-94763ddc2347",
   "metadata": {},
   "outputs": [
    {
     "name": "stdout",
     "output_type": "stream",
     "text": [
      "[5 7 9]\n",
      "[-3 -3 -3]\n"
     ]
    }
   ],
   "source": [
    "arr1 = np.array([1, 2, 3])\n",
    "arr2 = np.array([4, 5, 6])\n",
    " \n",
    "# Element-wise addition\n",
    "result = arr1 + arr2\n",
    "print(result)\n",
    "# Output: [5 7 9]\n",
    " \n",
    "# Element-wise subtraction\n",
    "result = arr1 - arr2\n",
    "print(result)\n",
    "# Output: [-3 -3 -3]"
   ]
  },
  {
   "cell_type": "code",
   "execution_count": 53,
   "id": "648f54c0-56cf-4124-90b2-485b9608290a",
   "metadata": {},
   "outputs": [
    {
     "name": "stdout",
     "output_type": "stream",
     "text": [
      "[ 4 10 18]\n",
      "[0.25 0.4  0.5 ]\n"
     ]
    }
   ],
   "source": [
    "arr1 = np.array([1, 2, 3])\n",
    "arr2 = np.array([4, 5, 6])\n",
    " \n",
    "# Element-wise multiplication\n",
    "result = arr1 * arr2\n",
    "print(result)\n",
    "# Output: [4 10 18]\n",
    " \n",
    "# Element-wise division\n",
    "result = arr1 / arr2\n",
    "print(result)\n",
    "# Output: [0.25 0.4  0.5]"
   ]
  },
  {
   "cell_type": "code",
   "execution_count": 54,
   "id": "3f6cfa36-36bd-47ca-8eab-ea85a92281cf",
   "metadata": {},
   "outputs": [
    {
     "name": "stdout",
     "output_type": "stream",
     "text": [
      "[0.0000000e+00 1.0000000e+00 1.2246468e-16]\n",
      "[ 1.          4.81047738 23.14069263]\n"
     ]
    }
   ],
   "source": [
    "arr = np.array([0, np.pi/2, np.pi])\n",
    " \n",
    "# Calculate the sine of each element\n",
    "result = np.sin(arr)\n",
    "print(result)\n",
    "# Output: [0.         1.         1.2246468e-16]\n",
    " \n",
    "# Calculate the exponential of each element\n",
    "result = np.exp(arr)\n",
    "print(result)\n",
    "# Output: [ 1.          4.81047738 23.14069263]"
   ]
  },
  {
   "cell_type": "code",
   "execution_count": 56,
   "id": "02f2bf32-79c1-4f08-a95d-8f062c59fff9",
   "metadata": {},
   "outputs": [
    {
     "name": "stdout",
     "output_type": "stream",
     "text": [
      "[0 1 2 3 4]\n",
      "[0 1 2 3 4]\n",
      "[0 1 2 3 4]\n",
      "[0 1 2 3 4]\n",
      "[100 144 196 256 324]\n",
      "[1.   1.44 1.96 2.56 3.24]\n",
      "[1.   2.44 3.96 5.56 7.24]\n"
     ]
    }
   ],
   "source": [
    "a = np.arange(5)\n",
    "print(a)\n",
    "# Output:\n",
    "# array([0, 1, 2, 3, 4])\n",
    " \n",
    "# adds 1 to every element in the array\n",
    "# be careful, you cannot do this with a normal python list\n",
    "a + 1\n",
    "# Output:\n",
    "# array([1, 2, 3, 4, 5])\n",
    "print(a)\n",
    " \n",
    "a * 2\n",
    "# Output:\n",
    "# array([0, 2, 4, 6, 8])\n",
    "print(a)\n",
    "\n",
    "a * 100\n",
    "# Output:\n",
    "# array([  0, 100, 200, 300, 400])\n",
    "print(a)\n",
    "\n",
    "a / 100\n",
    "# Output:\n",
    "# array([0.  , 0.01, 0.02, 0.03, 0.04])\n",
    " \n",
    " \n",
    "print((10 + (a * 2)) ** 2)\n",
    "# Output:\n",
    "# array([100, 144, 196, 256, 324])\n",
    " \n",
    "b = (10 + (a * 2)) ** 2 / 100\n",
    "print(b)\n",
    "# Output:\n",
    "# array([1.  , 1.44, 1.96, 2.56, 3.24])\n",
    " \n",
    "# adds element-wise both arrays\n",
    "a + b\n",
    "print(a + b)\n",
    "# Output:\n",
    "# array([1.  , 2.44, 3.96, 5.56, 7.24])"
   ]
  },
  {
   "cell_type": "code",
   "execution_count": 57,
   "id": "e3752330-4063-4c38-b418-2cab913cc5fe",
   "metadata": {},
   "outputs": [
    {
     "name": "stdout",
     "output_type": "stream",
     "text": [
      "[False False False  True  True]\n"
     ]
    }
   ],
   "source": [
    "arr = np.array([1, 2, 3, 4, 5])\n",
    " \n",
    "# Compare elements with 3\n",
    "result = arr > 3\n",
    "print(result)\n",
    "# Output: [False False False  True  True]"
   ]
  },
  {
   "cell_type": "code",
   "execution_count": 58,
   "id": "6e39239b-309f-4ffe-aa42-609cfaba6716",
   "metadata": {},
   "outputs": [
    {
     "name": "stdout",
     "output_type": "stream",
     "text": [
      "[False  True False]\n"
     ]
    }
   ],
   "source": [
    "arr1 = np.array([1, 2, 3])\n",
    "arr2 = np.array([3, 2, 1])\n",
    " \n",
    "# Compare elements of arr1 and arr2\n",
    "result = arr1 == arr2\n",
    "print(result)\n",
    "# Output: [False  True False]"
   ]
  },
  {
   "cell_type": "code",
   "execution_count": 59,
   "id": "4d4f61f4-377d-48b8-af80-9bc5560aa5ba",
   "metadata": {},
   "outputs": [
    {
     "name": "stdout",
     "output_type": "stream",
     "text": [
      "[False False  True  True False]\n"
     ]
    }
   ],
   "source": [
    "arr = np.array([1, 2, 3, 4, 5])\n",
    " \n",
    "# Compare elements that are greater than 2 and less than 5\n",
    "result = (arr > 2) & (arr < 5)\n",
    "print(result)\n",
    "# Output: [False False  True  True False]"
   ]
  },
  {
   "cell_type": "code",
   "execution_count": 60,
   "id": "675815a8-0997-42b4-8013-d38905d9aba2",
   "metadata": {},
   "outputs": [
    {
     "name": "stdout",
     "output_type": "stream",
     "text": [
      "[1.   1.44 1.96 2.56 3.24]\n",
      "[False False  True  True  True]\n",
      "[False False  True  True  True]\n",
      "[2 3 4]\n"
     ]
    },
    {
     "data": {
      "text/plain": [
       "(2, 3, 4)"
      ]
     },
     "execution_count": 60,
     "metadata": {},
     "output_type": "execute_result"
    }
   ],
   "source": [
    "a = np.arange(5)\n",
    "b = (10 + (a * 2)) ** 2 / 100\n",
    "print(b)\n",
    "# compare numbers element-wise\n",
    "print(a >= 2)\n",
    "# Output:\n",
    "# array([False, False,  True,  True,  True])\n",
    " \n",
    "print(a > b)\n",
    "# Output:\n",
    "# array([False, False,  True,  True,  True])\n",
    " \n",
    "# checks which elements of a are greater than b\n",
    "# a > b -> returns an boolean array\n",
    "# a[a > b] returns the elements where the boolean array is true\n",
    "# that are the elements 2, 3, and 4\n",
    "print(a[a > b])\n",
    "# Output:\n",
    "# array([2, 3, 4])\n",
    " \n",
    "a[2], a[3], a[4]\n",
    "# Output:\n",
    "(2, 3, 4)"
   ]
  },
  {
   "cell_type": "code",
   "execution_count": 61,
   "id": "34515486-7c88-4998-be72-1c8e45cb20c6",
   "metadata": {},
   "outputs": [
    {
     "name": "stdout",
     "output_type": "stream",
     "text": [
      "0\n",
      "4\n",
      "10\n",
      "2.0\n",
      "1.4142135623730951\n",
      "[[12 13  0]\n",
      " [ 4  5  1]\n",
      " [ 7  8  2]]\n",
      "52\n",
      "0\n"
     ]
    }
   ],
   "source": [
    "# there are some operations that instead of returning a new array, \n",
    "# it returns a single number\n",
    "# e.g. min() returns the smallest number \n",
    "print(a.min())\n",
    "# Output: 0\n",
    " \n",
    "print(a.max())\n",
    "# Output: 4\n",
    " \n",
    "print(a.sum())\n",
    "# Output: 10\n",
    " \n",
    "print(a.mean())\n",
    "# Output: 2\n",
    " \n",
    "# standard deviation\n",
    "print(a.std())\n",
    "# Output: 1.4142135623730951\n",
    " \n",
    "j = n = np.array([\n",
    "   [12, 13,  0],\n",
    "    [ 4,  5,  1],\n",
    "    [ 7,  8,  2]\n",
    "])\n",
    "print(j)\n",
    " \n",
    "# this also works for 2-dimensional arrays\n",
    "n.sum()\n",
    "# Output: 52\n",
    "print(n.sum()) \n",
    "n.min()\n",
    "print(n.min())\n",
    "# Output: 0"
   ]
  },
  {
   "cell_type": "code",
   "execution_count": 62,
   "id": "461250a2-c050-4a42-91c1-8c8fe5de6eef",
   "metadata": {},
   "outputs": [
    {
     "name": "stdout",
     "output_type": "stream",
     "text": [
      "[2.5 2.5 2.5 2.5 2.5 2.5 2.5 2.5 2.5 2.5]\n"
     ]
    }
   ],
   "source": [
    "print(np.full(10, 2.5))\n"
   ]
  },
  {
   "cell_type": "code",
   "execution_count": 63,
   "id": "87f70b18-4bc4-44eb-9c29-f3f4081a346a",
   "metadata": {},
   "outputs": [
    {
     "data": {
      "text/plain": [
       "array([1., 1., 1., 1., 1., 1., 1., 1., 1., 1.])"
      ]
     },
     "execution_count": 63,
     "metadata": {},
     "output_type": "execute_result"
    }
   ],
   "source": [
    "ones = np.ones(10)\n",
    "ones"
   ]
  },
  {
   "cell_type": "code",
   "execution_count": 64,
   "id": "7b59ab1f-e6b3-4dd4-85a4-a4f965cdf164",
   "metadata": {},
   "outputs": [
    {
     "data": {
      "text/plain": [
       "array([0., 0., 0., 0., 0., 0., 0., 0., 0., 0.])"
      ]
     },
     "execution_count": 64,
     "metadata": {},
     "output_type": "execute_result"
    }
   ],
   "source": [
    "array = np.full(10, 0.0)\n",
    "array"
   ]
  },
  {
   "cell_type": "code",
   "execution_count": 65,
   "id": "64df3f40-f0f9-4800-a84a-4c1fa6a9c793",
   "metadata": {},
   "outputs": [
    {
     "data": {
      "text/plain": [
       "array([0., 0., 0., 0., 0., 0., 0., 0., 0., 0.])"
      ]
     },
     "execution_count": 65,
     "metadata": {},
     "output_type": "execute_result"
    }
   ],
   "source": [
    "array = np.repeat(0.0, 10) \n",
    "array"
   ]
  },
  {
   "cell_type": "code",
   "execution_count": 66,
   "id": "e9353527-472a-46b4-8226-f5941c2979f5",
   "metadata": {},
   "outputs": [
    {
     "data": {
      "text/plain": [
       "array([0., 0., 0., 0., 0., 1., 1., 1., 1., 1.])"
      ]
     },
     "execution_count": 66,
     "metadata": {},
     "output_type": "execute_result"
    }
   ],
   "source": [
    "array = np.repeat([0.0, 1.0], 5)\n",
    "array"
   ]
  },
  {
   "cell_type": "code",
   "execution_count": 67,
   "id": "e2c3d2be-1696-4b60-bcf7-b4cc808d47be",
   "metadata": {},
   "outputs": [
    {
     "data": {
      "text/plain": [
       "array([0., 0., 1., 1., 1.])"
      ]
     },
     "execution_count": 67,
     "metadata": {},
     "output_type": "execute_result"
    }
   ],
   "source": [
    "array = np.repeat([0.0, 1.0], [2, 3])\n",
    "array"
   ]
  },
  {
   "cell_type": "code",
   "execution_count": 68,
   "id": "b7ac74cb-5e72-4c09-b845-f1b468319b70",
   "metadata": {},
   "outputs": [
    {
     "name": "stdout",
     "output_type": "stream",
     "text": [
      "0.0\n"
     ]
    }
   ],
   "source": [
    "el = array[1]\n",
    "print(el)"
   ]
  },
  {
   "cell_type": "code",
   "execution_count": 69,
   "id": "7247fee5-937c-47a8-abe5-9d771311e71c",
   "metadata": {},
   "outputs": [
    {
     "data": {
      "text/plain": [
       "array([1., 1., 0.])"
      ]
     },
     "execution_count": 69,
     "metadata": {},
     "output_type": "execute_result"
    }
   ],
   "source": [
    "array[[4, 2, 0]]"
   ]
  },
  {
   "cell_type": "code",
   "execution_count": 70,
   "id": "d900a47a-607a-40d6-984f-c3aa64b4920f",
   "metadata": {},
   "outputs": [
    {
     "name": "stdout",
     "output_type": "stream",
     "text": [
      "[0. 1. 1. 1. 1.]\n"
     ]
    }
   ],
   "source": [
    "array[1] = 1\n",
    "print(array)"
   ]
  },
  {
   "cell_type": "code",
   "execution_count": 71,
   "id": "55dbd9b0-0289-4c5e-a435-d4496574233e",
   "metadata": {},
   "outputs": [
    {
     "data": {
      "text/plain": [
       "array([1, 2, 3, 4])"
      ]
     },
     "execution_count": 71,
     "metadata": {},
     "output_type": "execute_result"
    }
   ],
   "source": [
    "elements = [1, 2, 3, 4]\n",
    "array = np.array(elements)\n",
    "array"
   ]
  },
  {
   "cell_type": "code",
   "execution_count": 72,
   "id": "6ccccff9-3263-4bbb-ab9b-74555bf19e81",
   "metadata": {},
   "outputs": [
    {
     "data": {
      "text/plain": [
       "array([0, 0, 0, 0, 0, 0, 0, 0, 0, 0], dtype=uint8)"
      ]
     },
     "execution_count": 72,
     "metadata": {},
     "output_type": "execute_result"
    }
   ],
   "source": [
    "zeros = np.zeros(10, dtype=np.uint8)\n",
    "zeros"
   ]
  },
  {
   "cell_type": "code",
   "execution_count": 73,
   "id": "eac897bd-e08b-434f-b551-51f04a8e56c5",
   "metadata": {},
   "outputs": [
    {
     "name": "stdout",
     "output_type": "stream",
     "text": [
      "0\n",
      "1\n",
      "2\n",
      "3\n",
      "4\n"
     ]
    }
   ],
   "source": [
    "for i in np.arange(5):\n",
    "    print(i)"
   ]
  },
  {
   "cell_type": "code",
   "execution_count": 74,
   "id": "52a07da5-bcf4-4cda-9c75-b49c3d5dad17",
   "metadata": {},
   "outputs": [
    {
     "data": {
      "text/plain": [
       "array([0. , 0.1, 0.2, 0.3, 0.4, 0.5, 0.6, 0.7, 0.8, 0.9, 1. ])"
      ]
     },
     "execution_count": 74,
     "metadata": {},
     "output_type": "execute_result"
    }
   ],
   "source": [
    "thresholds = np.linspace(0, 1, 11)\n",
    "thresholds"
   ]
  },
  {
   "cell_type": "code",
   "execution_count": 76,
   "id": "7b93c5fa-6aeb-4a97-9ecd-90f03fff5fc1",
   "metadata": {},
   "outputs": [
    {
     "data": {
      "text/plain": [
       "array([[0., 0.],\n",
       "       [0., 0.],\n",
       "       [0., 0.],\n",
       "       [0., 0.],\n",
       "       [0., 0.]], dtype=float32)"
      ]
     },
     "execution_count": 76,
     "metadata": {},
     "output_type": "execute_result"
    }
   ],
   "source": [
    "zeros = np.zeros((5, 2), dtype=np.float32)\n",
    "zeros"
   ]
  },
  {
   "cell_type": "code",
   "execution_count": 77,
   "id": "09d31c05-dc82-49ee-a28c-69338ccd19a6",
   "metadata": {},
   "outputs": [
    {
     "name": "stdout",
     "output_type": "stream",
     "text": [
      "(5, 2)\n"
     ]
    }
   ],
   "source": [
    "print(zeros.shape)"
   ]
  },
  {
   "cell_type": "code",
   "execution_count": 78,
   "id": "9847515a-6a2c-4c3f-88b6-52e05042ba60",
   "metadata": {},
   "outputs": [],
   "source": [
    "numbers = [\n",
    "    [1, 2, 3],\n",
    "    [4, 5, 6],\n",
    "    [7, 8, 9]\n",
    "]\n",
    "\n",
    "numbers = np.array(numbers)"
   ]
  },
  {
   "cell_type": "code",
   "execution_count": 79,
   "id": "cce266f2-373d-45c9-9b81-2c72a528adff",
   "metadata": {},
   "outputs": [
    {
     "name": "stdout",
     "output_type": "stream",
     "text": [
      "2\n"
     ]
    }
   ],
   "source": [
    "print(numbers[0, 1])"
   ]
  },
  {
   "cell_type": "code",
   "execution_count": 80,
   "id": "49f264fd-4206-4f44-a403-faa2711a5f2e",
   "metadata": {},
   "outputs": [
    {
     "data": {
      "text/plain": [
       "array([[ 1, 10,  3],\n",
       "       [ 4,  5,  6],\n",
       "       [ 7,  8,  9]])"
      ]
     },
     "execution_count": 80,
     "metadata": {},
     "output_type": "execute_result"
    }
   ],
   "source": [
    "numbers[0, 1] = 10\n",
    "numbers"
   ]
  },
  {
   "cell_type": "code",
   "execution_count": 81,
   "id": "e7aa8445-2cd5-4de3-bc3f-091ae2083ebd",
   "metadata": {},
   "outputs": [],
   "source": [
    "numbers[:, 2] = [9, 9, 9]\n"
   ]
  },
  {
   "cell_type": "code",
   "execution_count": 82,
   "id": "4fd6e4d4-46b7-4154-a7c0-2a5f084c1fde",
   "metadata": {},
   "outputs": [
    {
     "data": {
      "text/plain": [
       "array([[0.20464863, 0.61927097],\n",
       "       [0.29965467, 0.26682728],\n",
       "       [0.62113383, 0.52914209],\n",
       "       [0.13457995, 0.51357812],\n",
       "       [0.18443987, 0.78533515]])"
      ]
     },
     "execution_count": 82,
     "metadata": {},
     "output_type": "execute_result"
    }
   ],
   "source": [
    "np.random.rand(5, 2)"
   ]
  },
  {
   "cell_type": "code",
   "execution_count": 83,
   "id": "9f66e8b2-b622-4486-91b8-28499f0ed165",
   "metadata": {},
   "outputs": [
    {
     "data": {
      "text/plain": [
       "array([[0.4359949 , 0.02592623],\n",
       "       [0.54966248, 0.43532239],\n",
       "       [0.4203678 , 0.33033482],\n",
       "       [0.20464863, 0.61927097],\n",
       "       [0.29965467, 0.26682728]])"
      ]
     },
     "execution_count": 83,
     "metadata": {},
     "output_type": "execute_result"
    }
   ],
   "source": [
    "np.random.seed(2)\n",
    "arr = np.random.rand(5, 2)\n",
    "arr"
   ]
  },
  {
   "cell_type": "code",
   "execution_count": 84,
   "id": "28d8b95d-60a7-4a16-8c67-b264f751eb2c",
   "metadata": {},
   "outputs": [
    {
     "data": {
      "text/plain": [
       "array([[-0.41675785, -0.05626683],\n",
       "       [-2.1361961 ,  1.64027081],\n",
       "       [-1.79343559, -0.84174737],\n",
       "       [ 0.50288142, -1.24528809],\n",
       "       [-1.05795222, -0.90900761]])"
      ]
     },
     "execution_count": 84,
     "metadata": {},
     "output_type": "execute_result"
    }
   ],
   "source": [
    "np.random.seed(2)\n",
    "np.random.randn(5, 2)"
   ]
  },
  {
   "cell_type": "code",
   "execution_count": 85,
   "id": "b186a2c0-7d22-4493-8a54-a1dd1b174744",
   "metadata": {},
   "outputs": [
    {
     "data": {
      "text/plain": [
       "array([[40, 15],\n",
       "       [72, 22],\n",
       "       [43, 82],\n",
       "       [75,  7],\n",
       "       [34, 49]])"
      ]
     },
     "execution_count": 85,
     "metadata": {},
     "output_type": "execute_result"
    }
   ],
   "source": [
    "np.random.seed(2)\n",
    "np.random.randint(low=0, high=100, size=(5, 2))"
   ]
  },
  {
   "cell_type": "code",
   "execution_count": 86,
   "id": "fb5d4290-1a26-4f40-9d4f-7c13e7918500",
   "metadata": {},
   "outputs": [
    {
     "data": {
      "text/plain": [
       "array([[40, 15],\n",
       "       [72, 22],\n",
       "       [43, 82],\n",
       "       [75,  7],\n",
       "       [34, 49]])"
      ]
     },
     "execution_count": 86,
     "metadata": {},
     "output_type": "execute_result"
    }
   ],
   "source": [
    "np.random.seed(2)\n",
    "np.random.randint(low=0, high=100, size=(5, 2))"
   ]
  },
  {
   "cell_type": "code",
   "execution_count": 88,
   "id": "cedfa3a1-cf24-4045-b679-1f7e7e26d9a9",
   "metadata": {},
   "outputs": [
    {
     "data": {
      "text/plain": [
       "array([0, 1, 2, 3, 4])"
      ]
     },
     "execution_count": 88,
     "metadata": {},
     "output_type": "execute_result"
    }
   ],
   "source": [
    "rng = np.arange(5)\n",
    "rng"
   ]
  },
  {
   "cell_type": "code",
   "execution_count": 89,
   "id": "1f2e462f-edcd-4762-9563-1a6985db79ce",
   "metadata": {},
   "outputs": [
    {
     "data": {
      "text/plain": [
       "array([0, 2, 4, 6, 8])"
      ]
     },
     "execution_count": 89,
     "metadata": {},
     "output_type": "execute_result"
    }
   ],
   "source": [
    "rng * 2"
   ]
  },
  {
   "cell_type": "code",
   "execution_count": 90,
   "id": "f905a83d-3ef4-4f96-a38f-c590f61349b6",
   "metadata": {},
   "outputs": [
    {
     "data": {
      "text/plain": [
       "array([-0.5,  1. ,  2.5,  4. ,  5.5])"
      ]
     },
     "execution_count": 90,
     "metadata": {},
     "output_type": "execute_result"
    }
   ],
   "source": [
    "(rng - 1) * 3 / 2 + 1"
   ]
  },
  {
   "cell_type": "code",
   "execution_count": 91,
   "id": "399b4cae-958e-44fe-b0b0-0bbe928e2f0a",
   "metadata": {},
   "outputs": [
    {
     "data": {
      "text/plain": [
       "array([0.00435995, 0.00025926, 0.00549662, 0.00435322, 0.00420368])"
      ]
     },
     "execution_count": 91,
     "metadata": {},
     "output_type": "execute_result"
    }
   ],
   "source": [
    "np.random.seed(2)\n",
    "noise = 0.01 * np.random.rand(5)\n",
    "noise"
   ]
  },
  {
   "cell_type": "code",
   "execution_count": 92,
   "id": "d4118cf6-e998-44b6-b339-2040752dc31e",
   "metadata": {},
   "outputs": [
    {
     "data": {
      "text/plain": [
       "array([0, 1, 2, 3, 4])"
      ]
     },
     "execution_count": 92,
     "metadata": {},
     "output_type": "execute_result"
    }
   ],
   "source": [
    "numbers = np.arange(5)\n",
    "numbers"
   ]
  },
  {
   "cell_type": "code",
   "execution_count": 93,
   "id": "dd8340f6-610e-4ee6-9d2c-b2f2fec8763d",
   "metadata": {},
   "outputs": [
    {
     "data": {
      "text/plain": [
       "array([0.00435995, 1.00025926, 2.00549662, 3.00435322, 4.00420368])"
      ]
     },
     "execution_count": 93,
     "metadata": {},
     "output_type": "execute_result"
    }
   ],
   "source": [
    "result = numbers + noise\n",
    "result"
   ]
  },
  {
   "cell_type": "code",
   "execution_count": 94,
   "id": "85d6ad8a-d906-4857-b2e0-0cdf9cfa0fea",
   "metadata": {},
   "outputs": [
    {
     "data": {
      "text/plain": [
       "array([0.0044, 1.0003, 2.0055, 3.0044, 4.0042])"
      ]
     },
     "execution_count": 94,
     "metadata": {},
     "output_type": "execute_result"
    }
   ],
   "source": [
    "result.round(4)"
   ]
  },
  {
   "cell_type": "code",
   "execution_count": 95,
   "id": "b748827d-a73a-4819-a2e7-3283451ccd5d",
   "metadata": {},
   "outputs": [
    {
     "data": {
      "text/plain": [
       "array([0.44, 0.03, 0.55])"
      ]
     },
     "execution_count": 95,
     "metadata": {},
     "output_type": "execute_result"
    }
   ],
   "source": [
    "np.random.seed(2)\n",
    "pred = np.random.rand(3).round(2)\n",
    "pred"
   ]
  },
  {
   "cell_type": "code",
   "execution_count": 96,
   "id": "48321b03-350a-4518-8b9b-04474dc4e6ac",
   "metadata": {},
   "outputs": [
    {
     "data": {
      "text/plain": [
       "array([0.1936, 0.0009, 0.3025])"
      ]
     },
     "execution_count": 96,
     "metadata": {},
     "output_type": "execute_result"
    }
   ],
   "source": [
    "square = pred * pred\n",
    "square"
   ]
  },
  {
   "cell_type": "code",
   "execution_count": 97,
   "id": "04da6771-010d-4a81-84a0-9c8347a58e08",
   "metadata": {},
   "outputs": [
    {
     "data": {
      "text/plain": [
       "array([0.1936, 0.0009, 0.3025])"
      ]
     },
     "execution_count": 97,
     "metadata": {},
     "output_type": "execute_result"
    }
   ],
   "source": [
    "square = pred ** 2\n",
    "square"
   ]
  },
  {
   "cell_type": "code",
   "execution_count": 98,
   "id": "480d8a96-926e-4960-9f47-e51ccad77b43",
   "metadata": {},
   "outputs": [
    {
     "data": {
      "text/plain": [
       "array([1.55270722, 1.03045453, 1.73325302])"
      ]
     },
     "execution_count": 98,
     "metadata": {},
     "output_type": "execute_result"
    }
   ],
   "source": [
    "np.exp(pred)"
   ]
  },
  {
   "cell_type": "code",
   "execution_count": 99,
   "id": "1b2f71c3-9772-46f9-b5ab-06bcb2ae10e2",
   "metadata": {},
   "outputs": [
    {
     "data": {
      "text/plain": [
       "array([-0.82098055, -3.5065579 , -0.597837  ])"
      ]
     },
     "execution_count": 99,
     "metadata": {},
     "output_type": "execute_result"
    }
   ],
   "source": [
    "np.log(pred)"
   ]
  },
  {
   "cell_type": "code",
   "execution_count": 100,
   "id": "df93d350-20c7-452d-9ad1-3223a5a1bd99",
   "metadata": {},
   "outputs": [
    {
     "data": {
      "text/plain": [
       "array([0.66332496, 0.17320508, 0.74161985])"
      ]
     },
     "execution_count": 100,
     "metadata": {},
     "output_type": "execute_result"
    }
   ],
   "source": [
    "np.sqrt(pred)"
   ]
  },
  {
   "cell_type": "code",
   "execution_count": 101,
   "id": "a0fd81b6-5186-4874-96b9-506d9981d854",
   "metadata": {},
   "outputs": [
    {
     "data": {
      "text/plain": [
       "array([0.44, 0.03, 0.55])"
      ]
     },
     "execution_count": 101,
     "metadata": {},
     "output_type": "execute_result"
    }
   ],
   "source": [
    "np.random.seed(2)\n",
    "pred = np.random.rand(3).round(2)\n",
    "pred"
   ]
  },
  {
   "cell_type": "code",
   "execution_count": 102,
   "id": "88017003-6b22-4809-9068-d0a92b346dce",
   "metadata": {},
   "outputs": [
    {
     "data": {
      "text/plain": [
       "array([False, False,  True])"
      ]
     },
     "execution_count": 102,
     "metadata": {},
     "output_type": "execute_result"
    }
   ],
   "source": [
    "result = pred >= 0.5\n",
    "result"
   ]
  },
  {
   "cell_type": "code",
   "execution_count": 103,
   "id": "c38b9740-1b26-4f2c-8b2f-755881d7b7d7",
   "metadata": {},
   "outputs": [],
   "source": [
    "np.random.seed(2)"
   ]
  },
  {
   "cell_type": "code",
   "execution_count": 104,
   "id": "dcfcddb8-b5db-4246-be21-c3c8b26d1e0c",
   "metadata": {},
   "outputs": [
    {
     "data": {
      "text/plain": [
       "array([0.44, 0.03, 0.55])"
      ]
     },
     "execution_count": 104,
     "metadata": {},
     "output_type": "execute_result"
    }
   ],
   "source": [
    "pred1 = np.random.rand(3).round(2)\n",
    "pred1"
   ]
  },
  {
   "cell_type": "code",
   "execution_count": 105,
   "id": "b1fd7c55-26ec-459e-933b-285acd3330d7",
   "metadata": {},
   "outputs": [
    {
     "data": {
      "text/plain": [
       "array([0.44, 0.42, 0.33])"
      ]
     },
     "execution_count": 105,
     "metadata": {},
     "output_type": "execute_result"
    }
   ],
   "source": [
    "pred2 = np.random.rand(3).round(2)\n",
    "pred2"
   ]
  },
  {
   "cell_type": "code",
   "execution_count": 106,
   "id": "8650d32a-81b5-40e3-98f2-c6ed1785cb64",
   "metadata": {},
   "outputs": [
    {
     "data": {
      "text/plain": [
       "array([ True, False,  True])"
      ]
     },
     "execution_count": 106,
     "metadata": {},
     "output_type": "execute_result"
    }
   ],
   "source": [
    "pred1 >= pred2"
   ]
  },
  {
   "cell_type": "code",
   "execution_count": 108,
   "id": "5750627c-2e27-4c5a-bcc0-a18d0919774f",
   "metadata": {},
   "outputs": [
    {
     "data": {
      "text/plain": [
       "array([ True, False,  True])"
      ]
     },
     "execution_count": 108,
     "metadata": {},
     "output_type": "execute_result"
    }
   ],
   "source": [
    "pred1 = np.random.rand(3) >= 0.3\n",
    "pred1"
   ]
  },
  {
   "cell_type": "code",
   "execution_count": 109,
   "id": "c0a7c8d4-6c19-44a9-be93-7436e7a203ef",
   "metadata": {},
   "outputs": [],
   "source": [
    "np.random.seed(2)"
   ]
  },
  {
   "cell_type": "code",
   "execution_count": 110,
   "id": "f8660c14-45ea-401c-8351-6c4912281839",
   "metadata": {},
   "outputs": [
    {
     "data": {
      "text/plain": [
       "array([ True, False,  True])"
      ]
     },
     "execution_count": 110,
     "metadata": {},
     "output_type": "execute_result"
    }
   ],
   "source": [
    "pred2 = np.random.rand(3) >= 0.4\n",
    "pred2"
   ]
  },
  {
   "cell_type": "code",
   "execution_count": 111,
   "id": "dde2d883-4a79-4d29-a78e-31ad4755ecb9",
   "metadata": {},
   "outputs": [
    {
     "data": {
      "text/plain": [
       "array([ True, False,  True])"
      ]
     },
     "execution_count": 111,
     "metadata": {},
     "output_type": "execute_result"
    }
   ],
   "source": [
    "pred1 & pred2"
   ]
  },
  {
   "cell_type": "code",
   "execution_count": 112,
   "id": "a923880f-d3ff-4709-8d8d-5af6bd09dffa",
   "metadata": {},
   "outputs": [
    {
     "data": {
      "text/plain": [
       "array([0.44, 0.03, 0.55])"
      ]
     },
     "execution_count": 112,
     "metadata": {},
     "output_type": "execute_result"
    }
   ],
   "source": [
    "np.random.seed(2)\n",
    "pred = np.random.rand(3).round(2)\n",
    "pred_sum = pred.sum()\n",
    "pred"
   ]
  },
  {
   "cell_type": "code",
   "execution_count": 113,
   "id": "8f7b80db-fd33-4f97-a5dd-b8ebe3abed58",
   "metadata": {},
   "outputs": [
    {
     "data": {
      "text/plain": [
       "np.float64(1.02)"
      ]
     },
     "execution_count": 113,
     "metadata": {},
     "output_type": "execute_result"
    }
   ],
   "source": [
    "pred_sum\n"
   ]
  },
  {
   "cell_type": "code",
   "execution_count": 114,
   "id": "122e8275-b4fd-46e4-99ff-a22cef0440f0",
   "metadata": {},
   "outputs": [
    {
     "name": "stdout",
     "output_type": "stream",
     "text": [
      "min = 0.03\n",
      "mean = 0.34\n",
      "max = 0.55\n",
      "std = 0.22\n"
     ]
    }
   ],
   "source": [
    "print('min = %.2f' % pred.min())\n",
    "print('mean = %.2f' % pred.mean())\n",
    "print('max = %.2f' % pred.max())\n",
    "print('std = %.2f' % pred.std())"
   ]
  },
  {
   "cell_type": "code",
   "execution_count": 115,
   "id": "de222009-1b91-4ee0-a824-43be6a55bdcc",
   "metadata": {},
   "outputs": [
    {
     "data": {
      "text/plain": [
       "array([[0.44, 0.03, 0.55],\n",
       "       [0.44, 0.42, 0.33],\n",
       "       [0.2 , 0.62, 0.3 ],\n",
       "       [0.27, 0.62, 0.53]])"
      ]
     },
     "execution_count": 115,
     "metadata": {},
     "output_type": "execute_result"
    }
   ],
   "source": [
    "np.random.seed(2)\n",
    "matrix = np.random.rand(4, 3).round(2)\n",
    "matrix"
   ]
  },
  {
   "cell_type": "code",
   "execution_count": 116,
   "id": "6e429e1d-aa2b-4bad-9d88-6d2decd558e7",
   "metadata": {},
   "outputs": [
    {
     "data": {
      "text/plain": [
       "np.float64(0.62)"
      ]
     },
     "execution_count": 116,
     "metadata": {},
     "output_type": "execute_result"
    }
   ],
   "source": [
    "matrix.max()"
   ]
  },
  {
   "cell_type": "code",
   "execution_count": 117,
   "id": "3290c481-734a-4100-b614-8146ac9a37f1",
   "metadata": {},
   "outputs": [
    {
     "data": {
      "text/plain": [
       "array([0.55, 0.44, 0.62, 0.62])"
      ]
     },
     "execution_count": 117,
     "metadata": {},
     "output_type": "execute_result"
    }
   ],
   "source": [
    "matrix.max(axis=1)"
   ]
  },
  {
   "cell_type": "code",
   "execution_count": null,
   "id": "85f3566f-26bc-4f90-bda4-c1a69ca7f91e",
   "metadata": {},
   "outputs": [],
   "source": []
  },
  {
   "cell_type": "code",
   "execution_count": 118,
   "id": "db3538f7-9e39-4b7f-8567-ea33a3656794",
   "metadata": {},
   "outputs": [
    {
     "data": {
      "text/plain": [
       "array([0.44, 0.62, 0.55])"
      ]
     },
     "execution_count": 118,
     "metadata": {},
     "output_type": "execute_result"
    }
   ],
   "source": [
    "matrix.max(axis=0)"
   ]
  },
  {
   "cell_type": "code",
   "execution_count": 119,
   "id": "460d37ae-785e-49c1-8aac-23fd4c2fe306",
   "metadata": {},
   "outputs": [
    {
     "data": {
      "text/plain": [
       "array([1.02, 1.19, 1.12, 1.42])"
      ]
     },
     "execution_count": 119,
     "metadata": {},
     "output_type": "execute_result"
    }
   ],
   "source": [
    "matrix.sum(axis=1)"
   ]
  },
  {
   "cell_type": "code",
   "execution_count": 120,
   "id": "2bea7708-6eba-45f3-9a89-23e3669fc611",
   "metadata": {},
   "outputs": [
    {
     "data": {
      "text/plain": [
       "array([0.44, 0.03, 0.55, 0.44])"
      ]
     },
     "execution_count": 120,
     "metadata": {},
     "output_type": "execute_result"
    }
   ],
   "source": [
    "np.random.seed(2)\n",
    "pred = np.random.rand(4).round(2)\n",
    "pred"
   ]
  },
  {
   "cell_type": "code",
   "execution_count": 121,
   "id": "71ab4f15-525c-4d27-b4dd-efe38b1ec26a",
   "metadata": {},
   "outputs": [
    {
     "data": {
      "text/plain": [
       "array([0.03, 0.44, 0.44, 0.55])"
      ]
     },
     "execution_count": 121,
     "metadata": {},
     "output_type": "execute_result"
    }
   ],
   "source": [
    "np.sort(pred)"
   ]
  },
  {
   "cell_type": "code",
   "execution_count": 122,
   "id": "26f08249-089b-4ad9-9f40-3b3f53c117f2",
   "metadata": {},
   "outputs": [
    {
     "data": {
      "text/plain": [
       "array([0.44, 0.03, 0.55, 0.44])"
      ]
     },
     "execution_count": 122,
     "metadata": {},
     "output_type": "execute_result"
    }
   ],
   "source": [
    "pred"
   ]
  },
  {
   "cell_type": "code",
   "execution_count": 123,
   "id": "8c9c5a5f-5fb8-4eb1-84f5-a1951340e167",
   "metadata": {},
   "outputs": [],
   "source": [
    "pred.sort()"
   ]
  },
  {
   "cell_type": "code",
   "execution_count": 124,
   "id": "c7940028-f760-41a8-96ec-f21c28b85f7c",
   "metadata": {},
   "outputs": [
    {
     "data": {
      "text/plain": [
       "array([0.44, 0.03, 0.55, 0.44])"
      ]
     },
     "execution_count": 124,
     "metadata": {},
     "output_type": "execute_result"
    }
   ],
   "source": [
    "np.random.seed(2)\n",
    "pred = np.random.rand(4).round(2)\n",
    "pred\n"
   ]
  },
  {
   "cell_type": "code",
   "execution_count": 126,
   "id": "0a7bb12c-e699-4d68-b065-b71390a5348f",
   "metadata": {},
   "outputs": [
    {
     "data": {
      "text/plain": [
       "array([0.03, 0.44, 0.44, 0.55])"
      ]
     },
     "execution_count": 126,
     "metadata": {},
     "output_type": "execute_result"
    }
   ],
   "source": [
    "idx = pred.argsort()\n",
    "idx\n",
    "pred[idx]"
   ]
  },
  {
   "cell_type": "code",
   "execution_count": 127,
   "id": "33181552-69b8-4413-8067-c81ddacb33f4",
   "metadata": {},
   "outputs": [
    {
     "data": {
      "text/plain": [
       "array([0.03, 0.44, 0.44, 0.55])"
      ]
     },
     "execution_count": 127,
     "metadata": {},
     "output_type": "execute_result"
    }
   ],
   "source": [
    "pred[idx]"
   ]
  },
  {
   "cell_type": "code",
   "execution_count": null,
   "id": "5a31d623-008d-4104-8a58-1f7c1f6f79ed",
   "metadata": {},
   "outputs": [],
   "source": []
  },
  {
   "cell_type": "code",
   "execution_count": 128,
   "id": "04a7d459-e5f7-42df-a00c-fc6452183a17",
   "metadata": {},
   "outputs": [
    {
     "data": {
      "text/plain": [
       "array([ 0,  1,  2,  3,  4,  5,  6,  7,  8,  9, 10, 11])"
      ]
     },
     "execution_count": 128,
     "metadata": {},
     "output_type": "execute_result"
    }
   ],
   "source": [
    "rng = np.arange(12)\n",
    "rng"
   ]
  },
  {
   "cell_type": "code",
   "execution_count": 129,
   "id": "7ced1787-a422-4830-82bb-1e5196e95f8e",
   "metadata": {},
   "outputs": [
    {
     "data": {
      "text/plain": [
       "(12,)"
      ]
     },
     "execution_count": 129,
     "metadata": {},
     "output_type": "execute_result"
    }
   ],
   "source": [
    "rng.shape\n"
   ]
  },
  {
   "cell_type": "code",
   "execution_count": 130,
   "id": "52af5711-43b7-4638-81b5-a8faa08ac6ca",
   "metadata": {},
   "outputs": [
    {
     "data": {
      "text/plain": [
       "array([[ 0,  1,  2],\n",
       "       [ 3,  4,  5],\n",
       "       [ 6,  7,  8],\n",
       "       [ 9, 10, 11]])"
      ]
     },
     "execution_count": 130,
     "metadata": {},
     "output_type": "execute_result"
    }
   ],
   "source": [
    "rng.reshape(4, 3)"
   ]
  },
  {
   "cell_type": "code",
   "execution_count": 132,
   "id": "f32410f4-5713-4f72-ace7-7651b04bb388",
   "metadata": {},
   "outputs": [
    {
     "data": {
      "text/plain": [
       "array([[ 0,  4,  8],\n",
       "       [ 1,  5,  9],\n",
       "       [ 2,  6, 10],\n",
       "       [ 3,  7, 11]])"
      ]
     },
     "execution_count": 132,
     "metadata": {},
     "output_type": "execute_result"
    }
   ],
   "source": [
    "rng.reshape(4, 3, order='F')"
   ]
  },
  {
   "cell_type": "code",
   "execution_count": 133,
   "id": "d2d20ff1-681d-48d2-92ae-540f82754d13",
   "metadata": {},
   "outputs": [
    {
     "ename": "ValueError",
     "evalue": "cannot reshape array of size 12 into shape (4,4)",
     "output_type": "error",
     "traceback": [
      "\u001b[31m---------------------------------------------------------------------------\u001b[39m",
      "\u001b[31mValueError\u001b[39m                                Traceback (most recent call last)",
      "\u001b[36mCell\u001b[39m\u001b[36m \u001b[39m\u001b[32mIn[133]\u001b[39m\u001b[32m, line 1\u001b[39m\n\u001b[32m----> \u001b[39m\u001b[32m1\u001b[39m \u001b[43mrng\u001b[49m\u001b[43m.\u001b[49m\u001b[43mreshape\u001b[49m\u001b[43m(\u001b[49m\u001b[32;43m4\u001b[39;49m\u001b[43m,\u001b[49m\u001b[43m \u001b[49m\u001b[32;43m4\u001b[39;49m\u001b[43m)\u001b[49m\n",
      "\u001b[31mValueError\u001b[39m: cannot reshape array of size 12 into shape (4,4)"
     ]
    }
   ],
   "source": [
    "rng.reshape(4, 4)"
   ]
  },
  {
   "cell_type": "code",
   "execution_count": 134,
   "id": "b110d40d-9143-4c0e-8e7b-75ebc245eaf0",
   "metadata": {},
   "outputs": [
    {
     "data": {
      "text/plain": [
       "array([0, 1, 2])"
      ]
     },
     "execution_count": 134,
     "metadata": {},
     "output_type": "execute_result"
    }
   ],
   "source": [
    "vec = np.arange(3)\n",
    "vec\n"
   ]
  },
  {
   "cell_type": "code",
   "execution_count": 135,
   "id": "c11a57f3-0d9f-491d-9938-d29361a2b16c",
   "metadata": {},
   "outputs": [
    {
     "data": {
      "text/plain": [
       "array([[0, 1],\n",
       "       [2, 3],\n",
       "       [4, 5]])"
      ]
     },
     "execution_count": 135,
     "metadata": {},
     "output_type": "execute_result"
    }
   ],
   "source": [
    "mat = np.arange(6).reshape(3, 2)\n",
    "mat"
   ]
  },
  {
   "cell_type": "code",
   "execution_count": 136,
   "id": "20a08e98-eebd-47e0-95f9-98cca63b73d5",
   "metadata": {},
   "outputs": [
    {
     "data": {
      "text/plain": [
       "array([0, 1, 2, 0, 1, 2])"
      ]
     },
     "execution_count": 136,
     "metadata": {},
     "output_type": "execute_result"
    }
   ],
   "source": [
    "np.concatenate([vec, vec])"
   ]
  },
  {
   "cell_type": "code",
   "execution_count": 137,
   "id": "a5ecfaeb-268b-4bf8-b8e7-30e9f8e7d221",
   "metadata": {},
   "outputs": [
    {
     "data": {
      "text/plain": [
       "array([0, 1, 2, 0, 1, 2])"
      ]
     },
     "execution_count": 137,
     "metadata": {},
     "output_type": "execute_result"
    }
   ],
   "source": [
    "np.hstack([vec, vec])"
   ]
  },
  {
   "cell_type": "code",
   "execution_count": 138,
   "id": "58c7049f-6dce-4d3e-b64d-d17bc6c694d8",
   "metadata": {},
   "outputs": [
    {
     "data": {
      "text/plain": [
       "array([[0, 1, 0, 1],\n",
       "       [2, 3, 2, 3],\n",
       "       [4, 5, 4, 5]])"
      ]
     },
     "execution_count": 138,
     "metadata": {},
     "output_type": "execute_result"
    }
   ],
   "source": [
    "np.hstack([mat, mat])"
   ]
  },
  {
   "cell_type": "code",
   "execution_count": 139,
   "id": "738b6fc3-a113-4fe1-b470-6cbee489b745",
   "metadata": {},
   "outputs": [
    {
     "data": {
      "text/plain": [
       "array([[0, 1],\n",
       "       [2, 3],\n",
       "       [4, 5],\n",
       "       [0, 1],\n",
       "       [2, 3],\n",
       "       [4, 5]])"
      ]
     },
     "execution_count": 139,
     "metadata": {},
     "output_type": "execute_result"
    }
   ],
   "source": [
    "np.concatenate([mat, mat])"
   ]
  },
  {
   "cell_type": "code",
   "execution_count": 140,
   "id": "c8ed4530-9bb4-4df7-82ac-079199711a5f",
   "metadata": {},
   "outputs": [
    {
     "data": {
      "text/plain": [
       "array([[0, 0, 1],\n",
       "       [1, 2, 3],\n",
       "       [2, 4, 5]])"
      ]
     },
     "execution_count": 140,
     "metadata": {},
     "output_type": "execute_result"
    }
   ],
   "source": [
    "np.column_stack([vec, mat])"
   ]
  },
  {
   "cell_type": "code",
   "execution_count": 141,
   "id": "8c38076a-dc4a-4121-8815-83cf96af970e",
   "metadata": {},
   "outputs": [
    {
     "data": {
      "text/plain": [
       "array([[0, 0],\n",
       "       [1, 1],\n",
       "       [2, 2]])"
      ]
     },
     "execution_count": 141,
     "metadata": {},
     "output_type": "execute_result"
    }
   ],
   "source": [
    "np.column_stack([vec, vec])"
   ]
  },
  {
   "cell_type": "code",
   "execution_count": 142,
   "id": "6aaa8766-0379-4c51-b1ac-8f84975db469",
   "metadata": {},
   "outputs": [
    {
     "data": {
      "text/plain": [
       "array([[0, 1, 2],\n",
       "       [0, 1, 2]])"
      ]
     },
     "execution_count": 142,
     "metadata": {},
     "output_type": "execute_result"
    }
   ],
   "source": [
    "np.vstack([vec, vec])"
   ]
  },
  {
   "cell_type": "code",
   "execution_count": 143,
   "id": "17beb264-69a8-419b-a11b-05944e102e00",
   "metadata": {},
   "outputs": [
    {
     "data": {
      "text/plain": [
       "array([[0, 1],\n",
       "       [2, 3],\n",
       "       [4, 5],\n",
       "       [0, 1],\n",
       "       [2, 3],\n",
       "       [4, 5]])"
      ]
     },
     "execution_count": 143,
     "metadata": {},
     "output_type": "execute_result"
    }
   ],
   "source": [
    "np.vstack([mat, mat])"
   ]
  },
  {
   "cell_type": "code",
   "execution_count": 144,
   "id": "1fef9c83-1c0c-413b-a8d6-e0deb1341433",
   "metadata": {},
   "outputs": [
    {
     "data": {
      "text/plain": [
       "array([[0, 2, 4],\n",
       "       [1, 3, 5]])"
      ]
     },
     "execution_count": 144,
     "metadata": {},
     "output_type": "execute_result"
    }
   ],
   "source": [
    "mat.T"
   ]
  },
  {
   "cell_type": "code",
   "execution_count": 145,
   "id": "cb1cfa01-26d1-4900-b4e2-0b6e7398d6ce",
   "metadata": {},
   "outputs": [
    {
     "data": {
      "text/plain": [
       "array([[0, 1, 2],\n",
       "       [0, 2, 4],\n",
       "       [1, 3, 5]])"
      ]
     },
     "execution_count": 145,
     "metadata": {},
     "output_type": "execute_result"
    }
   ],
   "source": [
    "np.vstack([vec, mat.T])"
   ]
  },
  {
   "cell_type": "code",
   "execution_count": 146,
   "id": "598b74ba-3b49-4e00-a208-e81414f1d53f",
   "metadata": {},
   "outputs": [
    {
     "data": {
      "text/plain": [
       "array([[ 0,  1,  2],\n",
       "       [ 3,  4,  5],\n",
       "       [ 6,  7,  8],\n",
       "       [ 9, 10, 11],\n",
       "       [12, 13, 14]])"
      ]
     },
     "execution_count": 146,
     "metadata": {},
     "output_type": "execute_result"
    }
   ],
   "source": [
    "mat = np.arange(15).reshape(5, 3)\n",
    "mat"
   ]
  },
  {
   "cell_type": "code",
   "execution_count": 147,
   "id": "2b425184-49a9-4473-a8d8-8a0917ff96b9",
   "metadata": {},
   "outputs": [
    {
     "data": {
      "text/plain": [
       "array([[0, 1, 2],\n",
       "       [3, 4, 5],\n",
       "       [6, 7, 8]])"
      ]
     },
     "execution_count": 147,
     "metadata": {},
     "output_type": "execute_result"
    }
   ],
   "source": [
    "mat[:3]"
   ]
  },
  {
   "cell_type": "code",
   "execution_count": 148,
   "id": "c6ad4c1a-d5a6-4ef4-8b4a-efaa7cfb724f",
   "metadata": {},
   "outputs": [
    {
     "data": {
      "text/plain": [
       "array([[3, 4],\n",
       "       [6, 7]])"
      ]
     },
     "execution_count": 148,
     "metadata": {},
     "output_type": "execute_result"
    }
   ],
   "source": [
    "mat[1:3, :2]"
   ]
  },
  {
   "cell_type": "code",
   "execution_count": 149,
   "id": "5dc90377-9b7a-4a01-a6a9-ff83819b624c",
   "metadata": {},
   "outputs": [
    {
     "data": {
      "text/plain": [
       "array([[ 0,  1],\n",
       "       [ 3,  4],\n",
       "       [ 6,  7],\n",
       "       [ 9, 10],\n",
       "       [12, 13]])"
      ]
     },
     "execution_count": 149,
     "metadata": {},
     "output_type": "execute_result"
    }
   ],
   "source": [
    "mat[:, :2]"
   ]
  },
  {
   "cell_type": "code",
   "execution_count": 150,
   "id": "1fe5199b-a426-4234-8294-90b898aa03d2",
   "metadata": {},
   "outputs": [
    {
     "data": {
      "text/plain": [
       "array([[3, 4],\n",
       "       [6, 7]])"
      ]
     },
     "execution_count": 150,
     "metadata": {},
     "output_type": "execute_result"
    }
   ],
   "source": [
    "mat[1:3, :2]"
   ]
  },
  {
   "cell_type": "code",
   "execution_count": 151,
   "id": "798a4606-fdf0-4c0f-8c52-44908b360155",
   "metadata": {},
   "outputs": [
    {
     "data": {
      "text/plain": [
       "array([[ 9, 10, 11],\n",
       "       [ 0,  1,  2],\n",
       "       [ 3,  4,  5]])"
      ]
     },
     "execution_count": 151,
     "metadata": {},
     "output_type": "execute_result"
    }
   ],
   "source": [
    "mat[[3, 0, 1]]"
   ]
  },
  {
   "cell_type": "code",
   "execution_count": 152,
   "id": "45387747-8373-4dba-b8d2-3997c80109eb",
   "metadata": {},
   "outputs": [
    {
     "data": {
      "text/plain": [
       "array([[ 3,  4,  5],\n",
       "       [ 9, 10, 11]])"
      ]
     },
     "execution_count": 152,
     "metadata": {},
     "output_type": "execute_result"
    }
   ],
   "source": [
    "mat[mat[:, 0] % 2 == 1]"
   ]
  },
  {
   "cell_type": "code",
   "execution_count": null,
   "id": "f9605c9e-37d1-445e-bc35-f6089258bd08",
   "metadata": {},
   "outputs": [],
   "source": []
  }
 ],
 "metadata": {
  "kernelspec": {
   "display_name": "Python 3 (ipykernel)",
   "language": "python",
   "name": "python3"
  },
  "language_info": {
   "codemirror_mode": {
    "name": "ipython",
    "version": 3
   },
   "file_extension": ".py",
   "mimetype": "text/x-python",
   "name": "python",
   "nbconvert_exporter": "python",
   "pygments_lexer": "ipython3",
   "version": "3.12.1"
  }
 },
 "nbformat": 4,
 "nbformat_minor": 5
}
