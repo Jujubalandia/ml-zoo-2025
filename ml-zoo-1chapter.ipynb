{
 "cells": [
  {
   "cell_type": "code",
   "execution_count": 1,
   "id": "b55fddf3",
   "metadata": {
    "execution": {
     "iopub.execute_input": "2025-09-28T03:05:07.857260Z",
     "iopub.status.busy": "2025-09-28T03:05:07.856924Z",
     "iopub.status.idle": "2025-09-28T03:05:12.160995Z",
     "shell.execute_reply": "2025-09-28T03:05:12.159982Z"
    },
    "papermill": {
     "duration": 4.311532,
     "end_time": "2025-09-28T03:05:12.163132",
     "exception": false,
     "start_time": "2025-09-28T03:05:07.851600",
     "status": "completed"
    },
    "tags": []
   },
   "outputs": [],
   "source": [
    "import pandas as pd\n",
    "import numpy as np\n",
    "import seaborn as sns\n",
    "from matplotlib import pyplot as plt\n",
    "%matplotlib inline"
   ]
  },
  {
   "cell_type": "code",
   "execution_count": 2,
   "id": "59c74aad",
   "metadata": {
    "execution": {
     "iopub.execute_input": "2025-09-28T03:05:12.171517Z",
     "iopub.status.busy": "2025-09-28T03:05:12.170913Z",
     "iopub.status.idle": "2025-09-28T03:05:12.276655Z",
     "shell.execute_reply": "2025-09-28T03:05:12.275616Z"
    },
    "papermill": {
     "duration": 0.111883,
     "end_time": "2025-09-28T03:05:12.278512",
     "exception": false,
     "start_time": "2025-09-28T03:05:12.166629",
     "status": "completed"
    },
    "tags": []
   },
   "outputs": [
    {
     "data": {
      "text/plain": [
       "10000"
      ]
     },
     "execution_count": 2,
     "metadata": {},
     "output_type": "execute_result"
    }
   ],
   "source": [
    "\n",
    "df = pd.read_csv('/kaggle/input/data-data/data.csv')\n",
    "len(df)"
   ]
  },
  {
   "cell_type": "code",
   "execution_count": 3,
   "id": "e6a41b0d",
   "metadata": {
    "execution": {
     "iopub.execute_input": "2025-09-28T03:05:12.285976Z",
     "iopub.status.busy": "2025-09-28T03:05:12.285570Z",
     "iopub.status.idle": "2025-09-28T03:05:12.290936Z",
     "shell.execute_reply": "2025-09-28T03:05:12.289827Z"
    },
    "papermill": {
     "duration": 0.010925,
     "end_time": "2025-09-28T03:05:12.292631",
     "exception": false,
     "start_time": "2025-09-28T03:05:12.281706",
     "status": "completed"
    },
    "tags": []
   },
   "outputs": [],
   "source": [
    "zeros_array = np.zeros(10)\n",
    "ones_array = np.ones(10)\n",
    "constant_array = np.full(10, 3)"
   ]
  },
  {
   "cell_type": "code",
   "execution_count": 4,
   "id": "0f6f8e20",
   "metadata": {
    "execution": {
     "iopub.execute_input": "2025-09-28T03:05:12.300228Z",
     "iopub.status.busy": "2025-09-28T03:05:12.299879Z",
     "iopub.status.idle": "2025-09-28T03:05:12.305497Z",
     "shell.execute_reply": "2025-09-28T03:05:12.304459Z"
    },
    "papermill": {
     "duration": 0.011557,
     "end_time": "2025-09-28T03:05:12.307349",
     "exception": false,
     "start_time": "2025-09-28T03:05:12.295792",
     "status": "completed"
    },
    "tags": []
   },
   "outputs": [],
   "source": [
    "my_list = [2, 3, 4]\n",
    "array_from_list = np.array(my_list)"
   ]
  },
  {
   "cell_type": "code",
   "execution_count": 5,
   "id": "817ff8c6",
   "metadata": {
    "execution": {
     "iopub.execute_input": "2025-09-28T03:05:12.314768Z",
     "iopub.status.busy": "2025-09-28T03:05:12.314184Z",
     "iopub.status.idle": "2025-09-28T03:05:12.318868Z",
     "shell.execute_reply": "2025-09-28T03:05:12.317817Z"
    },
    "papermill": {
     "duration": 0.010008,
     "end_time": "2025-09-28T03:05:12.320426",
     "exception": false,
     "start_time": "2025-09-28T03:05:12.310418",
     "status": "completed"
    },
    "tags": []
   },
   "outputs": [],
   "source": [
    "range_array = np.arange(10)  # Creates an array from 0 to 9"
   ]
  },
  {
   "cell_type": "code",
   "execution_count": 6,
   "id": "29ce7214",
   "metadata": {
    "execution": {
     "iopub.execute_input": "2025-09-28T03:05:12.327504Z",
     "iopub.status.busy": "2025-09-28T03:05:12.327231Z",
     "iopub.status.idle": "2025-09-28T03:05:12.331673Z",
     "shell.execute_reply": "2025-09-28T03:05:12.330770Z"
    },
    "papermill": {
     "duration": 0.009982,
     "end_time": "2025-09-28T03:05:12.333445",
     "exception": false,
     "start_time": "2025-09-28T03:05:12.323463",
     "status": "completed"
    },
    "tags": []
   },
   "outputs": [],
   "source": [
    "linspace_array = np.linspace(0, 1, 11)  # Creates 11 numbers from 0 to 1"
   ]
  },
  {
   "cell_type": "code",
   "execution_count": 7,
   "id": "60a5b162",
   "metadata": {
    "execution": {
     "iopub.execute_input": "2025-09-28T03:05:12.340697Z",
     "iopub.status.busy": "2025-09-28T03:05:12.340421Z",
     "iopub.status.idle": "2025-09-28T03:05:12.345644Z",
     "shell.execute_reply": "2025-09-28T03:05:12.344805Z"
    },
    "papermill": {
     "duration": 0.010894,
     "end_time": "2025-09-28T03:05:12.347407",
     "exception": false,
     "start_time": "2025-09-28T03:05:12.336513",
     "status": "completed"
    },
    "tags": []
   },
   "outputs": [],
   "source": [
    "zeros_matrix = np.zeros((5, 2))\n",
    "ones_matrix = np.ones((5, 2))\n",
    "constant_matrix = np.full((5, 2), 3)"
   ]
  },
  {
   "cell_type": "code",
   "execution_count": 8,
   "id": "d71f16cb",
   "metadata": {
    "execution": {
     "iopub.execute_input": "2025-09-28T03:05:12.354781Z",
     "iopub.status.busy": "2025-09-28T03:05:12.354397Z",
     "iopub.status.idle": "2025-09-28T03:05:12.359378Z",
     "shell.execute_reply": "2025-09-28T03:05:12.358488Z"
    },
    "papermill": {
     "duration": 0.010554,
     "end_time": "2025-09-28T03:05:12.361167",
     "exception": false,
     "start_time": "2025-09-28T03:05:12.350613",
     "status": "completed"
    },
    "tags": []
   },
   "outputs": [],
   "source": [
    "arr = np.array([[2, 3, 4], [4, 5, 6]])\n",
    "first_row = arr[0]      # Gets the first row\n",
    "first_col = arr[:, 0]  # Gets the first column"
   ]
  },
  {
   "cell_type": "code",
   "execution_count": 9,
   "id": "0b00c886",
   "metadata": {
    "execution": {
     "iopub.execute_input": "2025-09-28T03:05:12.368752Z",
     "iopub.status.busy": "2025-09-28T03:05:12.368313Z",
     "iopub.status.idle": "2025-09-28T03:05:12.373250Z",
     "shell.execute_reply": "2025-09-28T03:05:12.372129Z"
    },
    "papermill": {
     "duration": 0.01096,
     "end_time": "2025-09-28T03:05:12.375358",
     "exception": false,
     "start_time": "2025-09-28T03:05:12.364398",
     "status": "completed"
    },
    "tags": []
   },
   "outputs": [],
   "source": [
    "np.random.seed(2)  # Set the seed\n",
    "random_array = np.random.rand(5, 2)  # Generates random numbers between 0 and 1"
   ]
  },
  {
   "cell_type": "code",
   "execution_count": 10,
   "id": "d1d4f164",
   "metadata": {
    "execution": {
     "iopub.execute_input": "2025-09-28T03:05:12.382880Z",
     "iopub.status.busy": "2025-09-28T03:05:12.382425Z",
     "iopub.status.idle": "2025-09-28T03:05:12.387876Z",
     "shell.execute_reply": "2025-09-28T03:05:12.386778Z"
    },
    "papermill": {
     "duration": 0.010978,
     "end_time": "2025-09-28T03:05:12.389518",
     "exception": false,
     "start_time": "2025-09-28T03:05:12.378540",
     "status": "completed"
    },
    "tags": []
   },
   "outputs": [],
   "source": [
    "arr1 = np.ones(4)\n",
    "arr2 = np.full(4, 3)\n",
    "result = arr1 + arr2  # Element-wise addition\n",
    "result = arr1 / arr2  # Element-wise division"
   ]
  },
  {
   "cell_type": "code",
   "execution_count": 11,
   "id": "c9169bff",
   "metadata": {
    "execution": {
     "iopub.execute_input": "2025-09-28T03:05:12.396686Z",
     "iopub.status.busy": "2025-09-28T03:05:12.396375Z",
     "iopub.status.idle": "2025-09-28T03:05:12.402620Z",
     "shell.execute_reply": "2025-09-28T03:05:12.401539Z"
    },
    "papermill": {
     "duration": 0.011777,
     "end_time": "2025-09-28T03:05:12.404286",
     "exception": false,
     "start_time": "2025-09-28T03:05:12.392509",
     "status": "completed"
    },
    "tags": []
   },
   "outputs": [],
   "source": [
    "arr = np.array([1, 2, 3, 4])\n",
    "greater_than_2 = arr > 2  # Produces [False, False, True, True]"
   ]
  },
  {
   "cell_type": "code",
   "execution_count": 12,
   "id": "ce9e32fc",
   "metadata": {
    "execution": {
     "iopub.execute_input": "2025-09-28T03:05:12.411270Z",
     "iopub.status.busy": "2025-09-28T03:05:12.410964Z",
     "iopub.status.idle": "2025-09-28T03:05:12.415306Z",
     "shell.execute_reply": "2025-09-28T03:05:12.414380Z"
    },
    "papermill": {
     "duration": 0.009614,
     "end_time": "2025-09-28T03:05:12.416854",
     "exception": false,
     "start_time": "2025-09-28T03:05:12.407240",
     "status": "completed"
    },
    "tags": []
   },
   "outputs": [],
   "source": [
    "selected_elements = arr[arr > 1]  # Gets elements greater than 1"
   ]
  },
  {
   "cell_type": "code",
   "execution_count": 13,
   "id": "236f2d4b",
   "metadata": {
    "execution": {
     "iopub.execute_input": "2025-09-28T03:05:12.425030Z",
     "iopub.status.busy": "2025-09-28T03:05:12.423714Z",
     "iopub.status.idle": "2025-09-28T03:05:12.429622Z",
     "shell.execute_reply": "2025-09-28T03:05:12.428663Z"
    },
    "papermill": {
     "duration": 0.011408,
     "end_time": "2025-09-28T03:05:12.431387",
     "exception": false,
     "start_time": "2025-09-28T03:05:12.419979",
     "status": "completed"
    },
    "tags": []
   },
   "outputs": [],
   "source": [
    "min_value = arr.min()    # Minimum value\n",
    "max_value = arr.max()    # Maximum value\n",
    "sum_value = arr.sum()    # Sum of all elements\n",
    "mean_value = arr.mean()  # Mean (average) value\n",
    "std_deviation = arr.std()  # Standard deviation"
   ]
  }
 ],
 "metadata": {
  "kaggle": {
   "accelerator": "none",
   "dataSources": [
    {
     "datasetId": 8360964,
     "sourceId": 13193556,
     "sourceType": "datasetVersion"
    }
   ],
   "dockerImageVersionId": 31089,
   "isGpuEnabled": false,
   "isInternetEnabled": false,
   "language": "python",
   "sourceType": "notebook"
  },
  "kernelspec": {
   "display_name": "Python 3",
   "language": "python",
   "name": "python3"
  },
  "language_info": {
   "codemirror_mode": {
    "name": "ipython",
    "version": 3
   },
   "file_extension": ".py",
   "mimetype": "text/x-python",
   "name": "python",
   "nbconvert_exporter": "python",
   "pygments_lexer": "ipython3",
   "version": "3.11.13"
  },
  "papermill": {
   "default_parameters": {},
   "duration": 11.433951,
   "end_time": "2025-09-28T03:05:13.158208",
   "environment_variables": {},
   "exception": null,
   "input_path": "__notebook__.ipynb",
   "output_path": "__notebook__.ipynb",
   "parameters": {},
   "start_time": "2025-09-28T03:05:01.724257",
   "version": "2.6.0"
  }
 },
 "nbformat": 4,
 "nbformat_minor": 5
}
