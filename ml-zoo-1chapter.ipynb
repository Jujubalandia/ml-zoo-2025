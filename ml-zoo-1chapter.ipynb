{
 "cells": [
  {
   "cell_type": "code",
   "execution_count": 1,
   "id": "e34cf3f3",
   "metadata": {
    "execution": {
     "iopub.execute_input": "2025-09-28T03:02:52.874835Z",
     "iopub.status.busy": "2025-09-28T03:02:52.874279Z",
     "iopub.status.idle": "2025-09-28T03:02:56.446068Z",
     "shell.execute_reply": "2025-09-28T03:02:56.445176Z"
    },
    "papermill": {
     "duration": 3.579232,
     "end_time": "2025-09-28T03:02:56.447683",
     "exception": false,
     "start_time": "2025-09-28T03:02:52.868451",
     "status": "completed"
    },
    "tags": []
   },
   "outputs": [],
   "source": [
    "import pandas as pd\n",
    "import numpy as np\n",
    "import seaborn as sns\n",
    "from matplotlib import pyplot as plt\n",
    "%matplotlib inline"
   ]
  },
  {
   "cell_type": "code",
   "execution_count": 2,
   "id": "6e775f95",
   "metadata": {
    "execution": {
     "iopub.execute_input": "2025-09-28T03:02:56.452850Z",
     "iopub.status.busy": "2025-09-28T03:02:56.452430Z",
     "iopub.status.idle": "2025-09-28T03:02:56.541556Z",
     "shell.execute_reply": "2025-09-28T03:02:56.540750Z"
    },
    "papermill": {
     "duration": 0.092916,
     "end_time": "2025-09-28T03:02:56.542880",
     "exception": false,
     "start_time": "2025-09-28T03:02:56.449964",
     "status": "completed"
    },
    "tags": []
   },
   "outputs": [
    {
     "data": {
      "text/plain": [
       "10000"
      ]
     },
     "execution_count": 2,
     "metadata": {},
     "output_type": "execute_result"
    }
   ],
   "source": [
    "\n",
    "df = pd.read_csv('/kaggle/input/data-data/data.csv')\n",
    "len(df)"
   ]
  },
  {
   "cell_type": "code",
   "execution_count": 3,
   "id": "52dc4610",
   "metadata": {
    "execution": {
     "iopub.execute_input": "2025-09-28T03:02:56.547724Z",
     "iopub.status.busy": "2025-09-28T03:02:56.547459Z",
     "iopub.status.idle": "2025-09-28T03:02:56.551359Z",
     "shell.execute_reply": "2025-09-28T03:02:56.550735Z"
    },
    "papermill": {
     "duration": 0.007723,
     "end_time": "2025-09-28T03:02:56.552601",
     "exception": false,
     "start_time": "2025-09-28T03:02:56.544878",
     "status": "completed"
    },
    "tags": []
   },
   "outputs": [],
   "source": [
    "zeros_array = np.zeros(10)\n",
    "ones_array = np.ones(10)\n",
    "constant_array = np.full(10, 3)"
   ]
  },
  {
   "cell_type": "code",
   "execution_count": 4,
   "id": "a8b97446",
   "metadata": {
    "execution": {
     "iopub.execute_input": "2025-09-28T03:02:56.557272Z",
     "iopub.status.busy": "2025-09-28T03:02:56.556969Z",
     "iopub.status.idle": "2025-09-28T03:02:56.560820Z",
     "shell.execute_reply": "2025-09-28T03:02:56.560192Z"
    },
    "papermill": {
     "duration": 0.007545,
     "end_time": "2025-09-28T03:02:56.562050",
     "exception": false,
     "start_time": "2025-09-28T03:02:56.554505",
     "status": "completed"
    },
    "tags": []
   },
   "outputs": [],
   "source": [
    "my_list = [2, 3, 4]\n",
    "array_from_list = np.array(my_list)"
   ]
  },
  {
   "cell_type": "code",
   "execution_count": 5,
   "id": "4a097b91",
   "metadata": {
    "execution": {
     "iopub.execute_input": "2025-09-28T03:02:56.566598Z",
     "iopub.status.busy": "2025-09-28T03:02:56.566328Z",
     "iopub.status.idle": "2025-09-28T03:02:56.570245Z",
     "shell.execute_reply": "2025-09-28T03:02:56.569553Z"
    },
    "papermill": {
     "duration": 0.007614,
     "end_time": "2025-09-28T03:02:56.571488",
     "exception": false,
     "start_time": "2025-09-28T03:02:56.563874",
     "status": "completed"
    },
    "tags": []
   },
   "outputs": [],
   "source": [
    "range_array = np.arange(10)  # Creates an array from 0 to 9"
   ]
  }
 ],
 "metadata": {
  "kaggle": {
   "accelerator": "none",
   "dataSources": [
    {
     "datasetId": 8360964,
     "sourceId": 13193556,
     "sourceType": "datasetVersion"
    }
   ],
   "dockerImageVersionId": 31089,
   "isGpuEnabled": false,
   "isInternetEnabled": false,
   "language": "python",
   "sourceType": "notebook"
  },
  "kernelspec": {
   "display_name": "Python 3",
   "language": "python",
   "name": "python3"
  },
  "language_info": {
   "codemirror_mode": {
    "name": "ipython",
    "version": 3
   },
   "file_extension": ".py",
   "mimetype": "text/x-python",
   "name": "python",
   "nbconvert_exporter": "python",
   "pygments_lexer": "ipython3",
   "version": "3.11.13"
  },
  "papermill": {
   "default_parameters": {},
   "duration": 9.408221,
   "end_time": "2025-09-28T03:02:57.192539",
   "environment_variables": {},
   "exception": null,
   "input_path": "__notebook__.ipynb",
   "output_path": "__notebook__.ipynb",
   "parameters": {},
   "start_time": "2025-09-28T03:02:47.784318",
   "version": "2.6.0"
  }
 },
 "nbformat": 4,
 "nbformat_minor": 5
}
